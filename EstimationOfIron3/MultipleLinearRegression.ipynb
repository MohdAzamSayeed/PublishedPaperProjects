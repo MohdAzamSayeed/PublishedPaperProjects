{
 "cells": [
  {
   "cell_type": "code",
   "execution_count": 1,
   "metadata": {},
   "outputs": [
    {
     "data": {
      "text/html": [
       "<div>\n",
       "<style scoped>\n",
       "    .dataframe tbody tr th:only-of-type {\n",
       "        vertical-align: middle;\n",
       "    }\n",
       "\n",
       "    .dataframe tbody tr th {\n",
       "        vertical-align: top;\n",
       "    }\n",
       "\n",
       "    .dataframe thead th {\n",
       "        text-align: right;\n",
       "    }\n",
       "</style>\n",
       "<table border=\"1\" class=\"dataframe\">\n",
       "  <thead>\n",
       "    <tr style=\"text-align: right;\">\n",
       "      <th></th>\n",
       "      <th>R</th>\n",
       "      <th>G</th>\n",
       "      <th>B</th>\n",
       "      <th>H</th>\n",
       "      <th>S</th>\n",
       "      <th>V</th>\n",
       "      <th>X</th>\n",
       "      <th>Y</th>\n",
       "      <th>Z</th>\n",
       "      <th>Rcie</th>\n",
       "      <th>...</th>\n",
       "      <th>q</th>\n",
       "      <th>pb</th>\n",
       "      <th>br</th>\n",
       "      <th>cb</th>\n",
       "      <th>y2</th>\n",
       "      <th>cr</th>\n",
       "      <th>db</th>\n",
       "      <th>dr</th>\n",
       "      <th>Fe3+(cm3)</th>\n",
       "      <th>OD</th>\n",
       "    </tr>\n",
       "  </thead>\n",
       "  <tbody>\n",
       "    <tr>\n",
       "      <th>0</th>\n",
       "      <td>171.6823</td>\n",
       "      <td>172.7418</td>\n",
       "      <td>166.7828</td>\n",
       "      <td>0.1973</td>\n",
       "      <td>0.0347</td>\n",
       "      <td>0.6775</td>\n",
       "      <td>0.3880</td>\n",
       "      <td>0.4132</td>\n",
       "      <td>0.4239</td>\n",
       "      <td>0.1006</td>\n",
       "      <td>...</td>\n",
       "      <td>-0.0082</td>\n",
       "      <td>-0.0110</td>\n",
       "      <td>-0.0002</td>\n",
       "      <td>163.4992</td>\n",
       "      <td>125.5398</td>\n",
       "      <td>127.9603</td>\n",
       "      <td>-0.0293</td>\n",
       "      <td>0.0005</td>\n",
       "      <td>0.0</td>\n",
       "      <td>0.00</td>\n",
       "    </tr>\n",
       "    <tr>\n",
       "      <th>1</th>\n",
       "      <td>166.3217</td>\n",
       "      <td>159.6654</td>\n",
       "      <td>148.5510</td>\n",
       "      <td>0.1050</td>\n",
       "      <td>0.1069</td>\n",
       "      <td>0.6522</td>\n",
       "      <td>0.3372</td>\n",
       "      <td>0.3535</td>\n",
       "      <td>0.3331</td>\n",
       "      <td>0.0974</td>\n",
       "      <td>...</td>\n",
       "      <td>-0.0080</td>\n",
       "      <td>-0.0262</td>\n",
       "      <td>0.0166</td>\n",
       "      <td>153.7455</td>\n",
       "      <td>122.1317</td>\n",
       "      <td>131.7174</td>\n",
       "      <td>-0.0698</td>\n",
       "      <td>-0.0443</td>\n",
       "      <td>0.5</td>\n",
       "      <td>0.08</td>\n",
       "    </tr>\n",
       "    <tr>\n",
       "      <th>2</th>\n",
       "      <td>179.0446</td>\n",
       "      <td>165.9013</td>\n",
       "      <td>149.3679</td>\n",
       "      <td>0.0930</td>\n",
       "      <td>0.1660</td>\n",
       "      <td>0.7021</td>\n",
       "      <td>0.3774</td>\n",
       "      <td>0.3908</td>\n",
       "      <td>0.3421</td>\n",
       "      <td>0.1049</td>\n",
       "      <td>...</td>\n",
       "      <td>-0.0093</td>\n",
       "      <td>-0.0411</td>\n",
       "      <td>0.0310</td>\n",
       "      <td>160.2363</td>\n",
       "      <td>118.7901</td>\n",
       "      <td>134.9537</td>\n",
       "      <td>-0.1096</td>\n",
       "      <td>-0.0828</td>\n",
       "      <td>1.0</td>\n",
       "      <td>0.13</td>\n",
       "    </tr>\n",
       "    <tr>\n",
       "      <th>3</th>\n",
       "      <td>175.2393</td>\n",
       "      <td>151.5578</td>\n",
       "      <td>130.6627</td>\n",
       "      <td>0.0782</td>\n",
       "      <td>0.2550</td>\n",
       "      <td>0.6872</td>\n",
       "      <td>0.3309</td>\n",
       "      <td>0.3323</td>\n",
       "      <td>0.2615</td>\n",
       "      <td>0.1024</td>\n",
       "      <td>...</td>\n",
       "      <td>-0.0059</td>\n",
       "      <td>-0.0566</td>\n",
       "      <td>0.0531</td>\n",
       "      <td>150.1968</td>\n",
       "      <td>115.3124</td>\n",
       "      <td>139.8938</td>\n",
       "      <td>-0.1510</td>\n",
       "      <td>-0.1416</td>\n",
       "      <td>1.5</td>\n",
       "      <td>0.22</td>\n",
       "    </tr>\n",
       "    <tr>\n",
       "      <th>4</th>\n",
       "      <td>181.2619</td>\n",
       "      <td>149.3363</td>\n",
       "      <td>122.6162</td>\n",
       "      <td>0.0760</td>\n",
       "      <td>0.3237</td>\n",
       "      <td>0.7108</td>\n",
       "      <td>0.3351</td>\n",
       "      <td>0.3292</td>\n",
       "      <td>0.2325</td>\n",
       "      <td>0.1059</td>\n",
       "      <td>...</td>\n",
       "      <td>-0.0061</td>\n",
       "      <td>-0.0735</td>\n",
       "      <td>0.0711</td>\n",
       "      <td>149.8356</td>\n",
       "      <td>111.5320</td>\n",
       "      <td>143.9308</td>\n",
       "      <td>-0.1960</td>\n",
       "      <td>-0.1896</td>\n",
       "      <td>2.0</td>\n",
       "      <td>0.31</td>\n",
       "    </tr>\n",
       "    <tr>\n",
       "      <th>5</th>\n",
       "      <td>167.4857</td>\n",
       "      <td>130.7505</td>\n",
       "      <td>99.2697</td>\n",
       "      <td>0.0769</td>\n",
       "      <td>0.4073</td>\n",
       "      <td>0.6568</td>\n",
       "      <td>0.2642</td>\n",
       "      <td>0.2538</td>\n",
       "      <td>0.1543</td>\n",
       "      <td>0.0979</td>\n",
       "      <td>...</td>\n",
       "      <td>-0.0079</td>\n",
       "      <td>-0.0860</td>\n",
       "      <td>0.0821</td>\n",
       "      <td>134.6426</td>\n",
       "      <td>108.7281</td>\n",
       "      <td>146.3833</td>\n",
       "      <td>-0.2294</td>\n",
       "      <td>-0.2188</td>\n",
       "      <td>2.5</td>\n",
       "      <td>0.38</td>\n",
       "    </tr>\n",
       "    <tr>\n",
       "      <th>6</th>\n",
       "      <td>179.6013</td>\n",
       "      <td>131.5025</td>\n",
       "      <td>95.3226</td>\n",
       "      <td>0.0715</td>\n",
       "      <td>0.4694</td>\n",
       "      <td>0.7043</td>\n",
       "      <td>0.2905</td>\n",
       "      <td>0.2692</td>\n",
       "      <td>0.1463</td>\n",
       "      <td>0.1047</td>\n",
       "      <td>...</td>\n",
       "      <td>-0.0043</td>\n",
       "      <td>-0.1028</td>\n",
       "      <td>0.1058</td>\n",
       "      <td>137.7464</td>\n",
       "      <td>104.9798</td>\n",
       "      <td>151.7100</td>\n",
       "      <td>-0.2740</td>\n",
       "      <td>-0.2822</td>\n",
       "      <td>3.0</td>\n",
       "      <td>0.47</td>\n",
       "    </tr>\n",
       "    <tr>\n",
       "      <th>7</th>\n",
       "      <td>179.7671</td>\n",
       "      <td>123.8339</td>\n",
       "      <td>85.2408</td>\n",
       "      <td>0.0682</td>\n",
       "      <td>0.5259</td>\n",
       "      <td>0.7050</td>\n",
       "      <td>0.2768</td>\n",
       "      <td>0.2480</td>\n",
       "      <td>0.1212</td>\n",
       "      <td>0.1046</td>\n",
       "      <td>...</td>\n",
       "      <td>-0.0007</td>\n",
       "      <td>-0.1127</td>\n",
       "      <td>0.1220</td>\n",
       "      <td>132.9360</td>\n",
       "      <td>102.7587</td>\n",
       "      <td>155.3234</td>\n",
       "      <td>-0.3004</td>\n",
       "      <td>-0.3252</td>\n",
       "      <td>3.5</td>\n",
       "      <td>0.55</td>\n",
       "    </tr>\n",
       "    <tr>\n",
       "      <th>8</th>\n",
       "      <td>180.2862</td>\n",
       "      <td>121.3290</td>\n",
       "      <td>79.9054</td>\n",
       "      <td>0.0688</td>\n",
       "      <td>0.5569</td>\n",
       "      <td>0.7070</td>\n",
       "      <td>0.2729</td>\n",
       "      <td>0.2415</td>\n",
       "      <td>0.1088</td>\n",
       "      <td>0.1050</td>\n",
       "      <td>...</td>\n",
       "      <td>-0.0016</td>\n",
       "      <td>-0.1202</td>\n",
       "      <td>0.1288</td>\n",
       "      <td>131.2841</td>\n",
       "      <td>101.0673</td>\n",
       "      <td>156.8537</td>\n",
       "      <td>-0.3206</td>\n",
       "      <td>-0.3434</td>\n",
       "      <td>4.0</td>\n",
       "      <td>0.60</td>\n",
       "    </tr>\n",
       "    <tr>\n",
       "      <th>9</th>\n",
       "      <td>174.3802</td>\n",
       "      <td>102.5777</td>\n",
       "      <td>57.3588</td>\n",
       "      <td>0.0644</td>\n",
       "      <td>0.6725</td>\n",
       "      <td>0.6838</td>\n",
       "      <td>0.2323</td>\n",
       "      <td>0.1911</td>\n",
       "      <td>0.0659</td>\n",
       "      <td>0.1011</td>\n",
       "      <td>...</td>\n",
       "      <td>0.0044</td>\n",
       "      <td>-0.1362</td>\n",
       "      <td>0.1552</td>\n",
       "      <td>118.1070</td>\n",
       "      <td>97.4963</td>\n",
       "      <td>162.7667</td>\n",
       "      <td>-0.3631</td>\n",
       "      <td>-0.4138</td>\n",
       "      <td>4.5</td>\n",
       "      <td>0.70</td>\n",
       "    </tr>\n",
       "    <tr>\n",
       "      <th>10</th>\n",
       "      <td>164.4925</td>\n",
       "      <td>91.7134</td>\n",
       "      <td>49.3601</td>\n",
       "      <td>0.0612</td>\n",
       "      <td>0.7002</td>\n",
       "      <td>0.6451</td>\n",
       "      <td>0.1996</td>\n",
       "      <td>0.1597</td>\n",
       "      <td>0.0517</td>\n",
       "      <td>0.0952</td>\n",
       "      <td>...</td>\n",
       "      <td>0.0087</td>\n",
       "      <td>-0.1312</td>\n",
       "      <td>0.1562</td>\n",
       "      <td>109.3078</td>\n",
       "      <td>98.6102</td>\n",
       "      <td>162.9909</td>\n",
       "      <td>-0.3498</td>\n",
       "      <td>-0.4165</td>\n",
       "      <td>5.0</td>\n",
       "      <td>0.75</td>\n",
       "    </tr>\n",
       "    <tr>\n",
       "      <th>11</th>\n",
       "      <td>175.8351</td>\n",
       "      <td>97.2573</td>\n",
       "      <td>51.2371</td>\n",
       "      <td>0.0616</td>\n",
       "      <td>0.7085</td>\n",
       "      <td>0.6895</td>\n",
       "      <td>0.2289</td>\n",
       "      <td>0.1818</td>\n",
       "      <td>0.0566</td>\n",
       "      <td>0.1017</td>\n",
       "      <td>...</td>\n",
       "      <td>0.0090</td>\n",
       "      <td>-0.1422</td>\n",
       "      <td>0.1687</td>\n",
       "      <td>115.1990</td>\n",
       "      <td>96.1401</td>\n",
       "      <td>165.7997</td>\n",
       "      <td>-0.3792</td>\n",
       "      <td>-0.4499</td>\n",
       "      <td>5.5</td>\n",
       "      <td>0.84</td>\n",
       "    </tr>\n",
       "    <tr>\n",
       "      <th>12</th>\n",
       "      <td>177.0540</td>\n",
       "      <td>92.3109</td>\n",
       "      <td>44.8688</td>\n",
       "      <td>0.0599</td>\n",
       "      <td>0.7475</td>\n",
       "      <td>0.6943</td>\n",
       "      <td>0.2258</td>\n",
       "      <td>0.1739</td>\n",
       "      <td>0.0483</td>\n",
       "      <td>0.1022</td>\n",
       "      <td>...</td>\n",
       "      <td>0.0124</td>\n",
       "      <td>-0.1491</td>\n",
       "      <td>0.1813</td>\n",
       "      <td>112.3950</td>\n",
       "      <td>94.6018</td>\n",
       "      <td>168.6092</td>\n",
       "      <td>-0.3975</td>\n",
       "      <td>-0.4834</td>\n",
       "      <td>6.0</td>\n",
       "      <td>0.92</td>\n",
       "    </tr>\n",
       "    <tr>\n",
       "      <th>13</th>\n",
       "      <td>170.3702</td>\n",
       "      <td>84.3824</td>\n",
       "      <td>40.6606</td>\n",
       "      <td>0.0562</td>\n",
       "      <td>0.7625</td>\n",
       "      <td>0.6681</td>\n",
       "      <td>0.2041</td>\n",
       "      <td>0.1533</td>\n",
       "      <td>0.0419</td>\n",
       "      <td>0.0981</td>\n",
       "      <td>...</td>\n",
       "      <td>0.0180</td>\n",
       "      <td>-0.1426</td>\n",
       "      <td>0.1825</td>\n",
       "      <td>106.2696</td>\n",
       "      <td>96.0513</td>\n",
       "      <td>168.8901</td>\n",
       "      <td>-0.3803</td>\n",
       "      <td>-0.4867</td>\n",
       "      <td>6.5</td>\n",
       "      <td>0.98</td>\n",
       "    </tr>\n",
       "    <tr>\n",
       "      <th>14</th>\n",
       "      <td>176.2404</td>\n",
       "      <td>84.7183</td>\n",
       "      <td>37.3747</td>\n",
       "      <td>0.0567</td>\n",
       "      <td>0.7869</td>\n",
       "      <td>0.6911</td>\n",
       "      <td>0.2167</td>\n",
       "      <td>0.1598</td>\n",
       "      <td>0.0388</td>\n",
       "      <td>0.1014</td>\n",
       "      <td>...</td>\n",
       "      <td>0.0181</td>\n",
       "      <td>-0.1534</td>\n",
       "      <td>0.1946</td>\n",
       "      <td>107.6246</td>\n",
       "      <td>93.6402</td>\n",
       "      <td>171.5796</td>\n",
       "      <td>-0.4090</td>\n",
       "      <td>-0.5187</td>\n",
       "      <td>7.0</td>\n",
       "      <td>1.03</td>\n",
       "    </tr>\n",
       "    <tr>\n",
       "      <th>15</th>\n",
       "      <td>177.6112</td>\n",
       "      <td>85.0176</td>\n",
       "      <td>37.0489</td>\n",
       "      <td>0.0568</td>\n",
       "      <td>0.7914</td>\n",
       "      <td>0.6965</td>\n",
       "      <td>0.2197</td>\n",
       "      <td>0.1617</td>\n",
       "      <td>0.0387</td>\n",
       "      <td>0.1022</td>\n",
       "      <td>...</td>\n",
       "      <td>0.0183</td>\n",
       "      <td>-0.1553</td>\n",
       "      <td>0.1969</td>\n",
       "      <td>108.0956</td>\n",
       "      <td>93.2069</td>\n",
       "      <td>172.0949</td>\n",
       "      <td>-0.4142</td>\n",
       "      <td>-0.5248</td>\n",
       "      <td>7.5</td>\n",
       "      <td>1.11</td>\n",
       "    </tr>\n",
       "  </tbody>\n",
       "</table>\n",
       "<p>16 rows × 30 columns</p>\n",
       "</div>"
      ],
      "text/plain": [
       "           R         G         B       H       S       V       X       Y  \\\n",
       "0   171.6823  172.7418  166.7828  0.1973  0.0347  0.6775  0.3880  0.4132   \n",
       "1   166.3217  159.6654  148.5510  0.1050  0.1069  0.6522  0.3372  0.3535   \n",
       "2   179.0446  165.9013  149.3679  0.0930  0.1660  0.7021  0.3774  0.3908   \n",
       "3   175.2393  151.5578  130.6627  0.0782  0.2550  0.6872  0.3309  0.3323   \n",
       "4   181.2619  149.3363  122.6162  0.0760  0.3237  0.7108  0.3351  0.3292   \n",
       "5   167.4857  130.7505   99.2697  0.0769  0.4073  0.6568  0.2642  0.2538   \n",
       "6   179.6013  131.5025   95.3226  0.0715  0.4694  0.7043  0.2905  0.2692   \n",
       "7   179.7671  123.8339   85.2408  0.0682  0.5259  0.7050  0.2768  0.2480   \n",
       "8   180.2862  121.3290   79.9054  0.0688  0.5569  0.7070  0.2729  0.2415   \n",
       "9   174.3802  102.5777   57.3588  0.0644  0.6725  0.6838  0.2323  0.1911   \n",
       "10  164.4925   91.7134   49.3601  0.0612  0.7002  0.6451  0.1996  0.1597   \n",
       "11  175.8351   97.2573   51.2371  0.0616  0.7085  0.6895  0.2289  0.1818   \n",
       "12  177.0540   92.3109   44.8688  0.0599  0.7475  0.6943  0.2258  0.1739   \n",
       "13  170.3702   84.3824   40.6606  0.0562  0.7625  0.6681  0.2041  0.1533   \n",
       "14  176.2404   84.7183   37.3747  0.0567  0.7869  0.6911  0.2167  0.1598   \n",
       "15  177.6112   85.0176   37.0489  0.0568  0.7914  0.6965  0.2197  0.1617   \n",
       "\n",
       "         Z    Rcie  ...       q      pb      br        cb        y2        cr  \\\n",
       "0   0.4239  0.1006  ... -0.0082 -0.0110 -0.0002  163.4992  125.5398  127.9603   \n",
       "1   0.3331  0.0974  ... -0.0080 -0.0262  0.0166  153.7455  122.1317  131.7174   \n",
       "2   0.3421  0.1049  ... -0.0093 -0.0411  0.0310  160.2363  118.7901  134.9537   \n",
       "3   0.2615  0.1024  ... -0.0059 -0.0566  0.0531  150.1968  115.3124  139.8938   \n",
       "4   0.2325  0.1059  ... -0.0061 -0.0735  0.0711  149.8356  111.5320  143.9308   \n",
       "5   0.1543  0.0979  ... -0.0079 -0.0860  0.0821  134.6426  108.7281  146.3833   \n",
       "6   0.1463  0.1047  ... -0.0043 -0.1028  0.1058  137.7464  104.9798  151.7100   \n",
       "7   0.1212  0.1046  ... -0.0007 -0.1127  0.1220  132.9360  102.7587  155.3234   \n",
       "8   0.1088  0.1050  ... -0.0016 -0.1202  0.1288  131.2841  101.0673  156.8537   \n",
       "9   0.0659  0.1011  ...  0.0044 -0.1362  0.1552  118.1070   97.4963  162.7667   \n",
       "10  0.0517  0.0952  ...  0.0087 -0.1312  0.1562  109.3078   98.6102  162.9909   \n",
       "11  0.0566  0.1017  ...  0.0090 -0.1422  0.1687  115.1990   96.1401  165.7997   \n",
       "12  0.0483  0.1022  ...  0.0124 -0.1491  0.1813  112.3950   94.6018  168.6092   \n",
       "13  0.0419  0.0981  ...  0.0180 -0.1426  0.1825  106.2696   96.0513  168.8901   \n",
       "14  0.0388  0.1014  ...  0.0181 -0.1534  0.1946  107.6246   93.6402  171.5796   \n",
       "15  0.0387  0.1022  ...  0.0183 -0.1553  0.1969  108.0956   93.2069  172.0949   \n",
       "\n",
       "        db      dr  Fe3+(cm3)    OD  \n",
       "0  -0.0293  0.0005        0.0  0.00  \n",
       "1  -0.0698 -0.0443        0.5  0.08  \n",
       "2  -0.1096 -0.0828        1.0  0.13  \n",
       "3  -0.1510 -0.1416        1.5  0.22  \n",
       "4  -0.1960 -0.1896        2.0  0.31  \n",
       "5  -0.2294 -0.2188        2.5  0.38  \n",
       "6  -0.2740 -0.2822        3.0  0.47  \n",
       "7  -0.3004 -0.3252        3.5  0.55  \n",
       "8  -0.3206 -0.3434        4.0  0.60  \n",
       "9  -0.3631 -0.4138        4.5  0.70  \n",
       "10 -0.3498 -0.4165        5.0  0.75  \n",
       "11 -0.3792 -0.4499        5.5  0.84  \n",
       "12 -0.3975 -0.4834        6.0  0.92  \n",
       "13 -0.3803 -0.4867        6.5  0.98  \n",
       "14 -0.4090 -0.5187        7.0  1.03  \n",
       "15 -0.4142 -0.5248        7.5  1.11  \n",
       "\n",
       "[16 rows x 30 columns]"
      ]
     },
     "execution_count": 1,
     "metadata": {},
     "output_type": "execute_result"
    }
   ],
   "source": [
    "#import pandas library\n",
    "import pandas as pd\n",
    "import numpy as np\n",
    "from pandas.plotting import scatter_matrix\n",
    "import matplotlib.pyplot as plt\n",
    "#read dataset and store into a dataframe\n",
    "dataset=pd.read_csv(\"dataSet.csv\")\n",
    "#print the dataframe\n",
    "dataset\n"
   ]
  },
  {
   "cell_type": "code",
   "execution_count": 22,
   "metadata": {},
   "outputs": [
    {
     "data": {
      "text/plain": [
       "R            0.094091\n",
       "G           -0.978167\n",
       "B           -0.975865\n",
       "H           -0.711237\n",
       "S            0.976791\n",
       "V            0.072974\n",
       "X           -0.923823\n",
       "Y           -0.952868\n",
       "Z           -0.932677\n",
       "Rcie        -0.120653\n",
       "Gcie        -0.976300\n",
       "Bcie        -0.976349\n",
       "Grey        -0.971686\n",
       "L           -0.961918\n",
       "A            0.993645\n",
       "B.1          0.975631\n",
       "Y1          -0.967900\n",
       "U           -0.963801\n",
       "V.1          0.986290\n",
       "i            0.981910\n",
       "q            0.958245\n",
       "pb          -0.963724\n",
       "br           0.986314\n",
       "cb          -0.967892\n",
       "y2          -0.963750\n",
       "cr           0.986290\n",
       "db          -0.963774\n",
       "dr          -0.986290\n",
       "Fe3+(cm3)    1.000000\n",
       "Name: Fe3+(cm3), dtype: float64"
      ]
     },
     "execution_count": 22,
     "metadata": {},
     "output_type": "execute_result"
    }
   ],
   "source": [
    "#Seperating Features\n",
    "l=list(dataset.columns[0:-2])\n",
    "target =dataset.columns[-2]\n",
    "l.append(target)\n",
    "#find correlation matrix\n",
    "df=dataset[l].corr()\n",
    "df[target]"
   ]
  },
  {
   "cell_type": "code",
   "execution_count": 40,
   "metadata": {},
   "outputs": [
    {
     "data": {
      "image/png": "[encoded data removed]",
      "text/plain": [
       "<Figure size 1260x180 with 7 Axes>"
      ]
     },
     "metadata": {
      "needs_background": "light"
     },
     "output_type": "display_data"
    },
    {
     "data": {
      "image/png": "[encoded data removed]",
      "text/plain": [
       "<Figure size 1260x180 with 7 Axes>"
      ]
     },
     "metadata": {
      "needs_background": "light"
     },
     "output_type": "display_data"
    },
    {
     "data": {
      "image/png": "[encoded data removed]",
      "text/plain": [
       "<Figure size 1260x180 with 7 Axes>"
      ]
     },
     "metadata": {
      "needs_background": "light"
     },
     "output_type": "display_data"
    },
    {
     "data": {
      "image/png": "[encoded data removed]",
      "text/plain": [
       "<Figure size 1440x180 with 8 Axes>"
      ]
     },
     "metadata": {
      "needs_background": "light"
     },
     "output_type": "display_data"
    }
   ],
   "source": [
    "import seaborn as sns\n",
    "\n",
    "pp = sns.pairplot(data=dataset,\n",
    "                  y_vars=['Fe3+(cm3)'],\n",
    "                  x_vars=features[0:7])   \n",
    "pp = sns.pairplot(data=dataset,\n",
    "                  y_vars=['Fe3+(cm3)'],\n",
    "                  x_vars=features[7:14])  \n",
    "pp = sns.pairplot(data=dataset,\n",
    "                  y_vars=['Fe3+(cm3)'],\n",
    "                  x_vars=features[14:21])  \n",
    "pp = sns.pairplot(data=dataset,\n",
    "                  y_vars=['Fe3+(cm3)'],\n",
    "                  x_vars=features[21:])  "
   ]
  },
  {
   "cell_type": "code",
   "execution_count": 49,
   "metadata": {},
   "outputs": [
    {
     "data": {
      "image/png": "[encoded data removed]",
      "text/plain": [
       "<Figure size 504x504 with 2 Axes>"
      ]
     },
     "metadata": {
      "needs_background": "light"
     },
     "output_type": "display_data"
    }
   ],
   "source": [
    "import seaborn as sns\n",
    "\n",
    "f, ax = plt.subplots(figsize=(7, 7))\n",
    "ax =sns.heatmap(df,cmap=\"YlGnBu\",center=0)"
   ]
  },
  {
   "cell_type": "code",
   "execution_count": 50,
   "metadata": {},
   "outputs": [
    {
     "data": {
      "text/plain": [
       "R       0.096814\n",
       "G      -0.981834\n",
       "B      -0.981205\n",
       "H      -0.716189\n",
       "S       0.982201\n",
       "V       0.075546\n",
       "X      -0.930628\n",
       "Y      -0.959308\n",
       "Z      -0.941541\n",
       "Rcie   -0.117667\n",
       "Gcie   -0.980145\n",
       "Bcie   -0.981544\n",
       "Grey   -0.975440\n",
       "L      -0.966463\n",
       "A       0.996002\n",
       "B.1     0.981443\n",
       "Y1     -0.971733\n",
       "U      -0.970659\n",
       "V.1     0.990722\n",
       "i       0.986961\n",
       "q       0.953990\n",
       "pb     -0.970599\n",
       "br      0.990738\n",
       "cb     -0.971726\n",
       "y2     -0.970617\n",
       "cr      0.990721\n",
       "db     -0.970637\n",
       "dr     -0.990721\n",
       "OD      1.000000\n",
       "Name: OD, dtype: float64"
      ]
     },
     "execution_count": 50,
     "metadata": {},
     "output_type": "execute_result"
    }
   ],
   "source": [
    "#find correlation matrix\n",
    "l=list(dataset.columns[0:-2])\n",
    "target =dataset.columns[-1]\n",
    "l.append(target)\n",
    "#find correlation matrix\n",
    "df=dataset[l].corr()\n",
    "df[target]"
   ]
  },
  {
   "cell_type": "code",
   "execution_count": 51,
   "metadata": {},
   "outputs": [
    {
     "data": {
      "image/png": "[encoded data removed]",
      "text/plain": [
       "<Figure size 1260x180 with 7 Axes>"
      ]
     },
     "metadata": {
      "needs_background": "light"
     },
     "output_type": "display_data"
    },
    {
     "data": {
      "image/png": "[encoded data removed]",
      "text/plain": [
       "<Figure size 1260x180 with 7 Axes>"
      ]
     },
     "metadata": {
      "needs_background": "light"
     },
     "output_type": "display_data"
    },
    {
     "data": {
      "image/png": "[encoded data removed]",
      "text/plain": [
       "<Figure size 1260x180 with 7 Axes>"
      ]
     },
     "metadata": {
      "needs_background": "light"
     },
     "output_type": "display_data"
    },
    {
     "data": {
      "image/png": "[encoded data removed]",
      "text/plain": [
       "<Figure size 1440x180 with 8 Axes>"
      ]
     },
     "metadata": {
      "needs_background": "light"
     },
     "output_type": "display_data"
    }
   ],
   "source": [
    "import seaborn as sns\n",
    "#fig, axes = plt.subplots(7,4)\n",
    "#for i, yvar in enumerate(dataset.columns[0:-2]):\n",
    "#    axes[,i].scatter(dataset['Fe3+(cm3)'],dataset[yvar])\n",
    "    \n",
    "pp = sns.pairplot(data=dataset,\n",
    "                  y_vars=[target],\n",
    "                  x_vars=l[0:7])   \n",
    "\n",
    "pp = sns.pairplot(data=dataset,\n",
    "                  y_vars=[target],\n",
    "                  x_vars=l[7:14])  \n",
    "\n",
    "pp = sns.pairplot(data=dataset,\n",
    "                  y_vars=[target],\n",
    "                  x_vars=l[14:21])  \n",
    "\n",
    "pp = sns.pairplot(data=dataset,\n",
    "                  y_vars=[target],\n",
    "                  x_vars=l[21:])  "
   ]
  },
  {
   "cell_type": "code",
   "execution_count": 52,
   "metadata": {},
   "outputs": [
    {
     "data": {
      "image/png": "[encoded data removed]",
      "text/plain": [
       "<Figure size 504x504 with 2 Axes>"
      ]
     },
     "metadata": {
      "needs_background": "light"
     },
     "output_type": "display_data"
    }
   ],
   "source": [
    "import seaborn as sns\n",
    "\n",
    "f, ax = plt.subplots(figsize=(7, 7))\n",
    "ax =sns.heatmap(df,cmap=\"YlGnBu\",center=0)"
   ]
  },
  {
   "cell_type": "code",
   "execution_count": 70,
   "metadata": {},
   "outputs": [],
   "source": [
    "X = pd.DataFrame(dataset.loc[:,['S','A','B.1','V.1','i','q','br','cr']]) #feature selected independent varaiables\n",
    "Y = pd.DataFrame(dataset.iloc[:,-1])#independent variable Fe3+(cm3)"
   ]
  },
  {
   "cell_type": "code",
   "execution_count": 72,
   "metadata": {},
   "outputs": [
    {
     "data": {
      "text/html": [
       "<div>\n",
       "<style scoped>\n",
       "    .dataframe tbody tr th:only-of-type {\n",
       "        vertical-align: middle;\n",
       "    }\n",
       "\n",
       "    .dataframe tbody tr th {\n",
       "        vertical-align: top;\n",
       "    }\n",
       "\n",
       "    .dataframe thead th {\n",
       "        text-align: right;\n",
       "    }\n",
       "</style>\n",
       "<table border=\"1\" class=\"dataframe\">\n",
       "  <thead>\n",
       "    <tr style=\"text-align: right;\">\n",
       "      <th></th>\n",
       "      <th>OD</th>\n",
       "    </tr>\n",
       "  </thead>\n",
       "  <tbody>\n",
       "    <tr>\n",
       "      <th>0</th>\n",
       "      <td>0.00</td>\n",
       "    </tr>\n",
       "    <tr>\n",
       "      <th>1</th>\n",
       "      <td>0.08</td>\n",
       "    </tr>\n",
       "    <tr>\n",
       "      <th>2</th>\n",
       "      <td>0.13</td>\n",
       "    </tr>\n",
       "    <tr>\n",
       "      <th>3</th>\n",
       "      <td>0.22</td>\n",
       "    </tr>\n",
       "    <tr>\n",
       "      <th>4</th>\n",
       "      <td>0.31</td>\n",
       "    </tr>\n",
       "  </tbody>\n",
       "</table>\n",
       "</div>"
      ],
      "text/plain": [
       "     OD\n",
       "0  0.00\n",
       "1  0.08\n",
       "2  0.13\n",
       "3  0.22\n",
       "4  0.31"
      ]
     },
     "execution_count": 72,
     "metadata": {},
     "output_type": "execute_result"
    }
   ],
   "source": [
    "Y.head()"
   ]
  },
  {
   "cell_type": "code",
   "execution_count": 73,
   "metadata": {},
   "outputs": [],
   "source": [
    "from sklearn.model_selection import train_test_split\n",
    "X_train,X_test,Y_train,Y_test = train_test_split(X,Y,test_size=0.3,random_state=5)"
   ]
  },
  {
   "cell_type": "code",
   "execution_count": 74,
   "metadata": {},
   "outputs": [
    {
     "data": {
      "text/plain": [
       "LinearRegression(copy_X=True, fit_intercept=True, n_jobs=None,\n",
       "         normalize=False)"
      ]
     },
     "execution_count": 74,
     "metadata": {},
     "output_type": "execute_result"
    }
   ],
   "source": [
    "from sklearn.linear_model import LinearRegression\n",
    "regressor = LinearRegression()\n",
    "regressor.fit(X_train,Y_train)"
   ]
  },
  {
   "cell_type": "code",
   "execution_count": 75,
   "metadata": {},
   "outputs": [
    {
     "data": {
      "text/html": [
       "<div>\n",
       "<style scoped>\n",
       "    .dataframe tbody tr th:only-of-type {\n",
       "        vertical-align: middle;\n",
       "    }\n",
       "\n",
       "    .dataframe tbody tr th {\n",
       "        vertical-align: top;\n",
       "    }\n",
       "\n",
       "    .dataframe thead th {\n",
       "        text-align: right;\n",
       "    }\n",
       "</style>\n",
       "<table border=\"1\" class=\"dataframe\">\n",
       "  <thead>\n",
       "    <tr style=\"text-align: right;\">\n",
       "      <th></th>\n",
       "      <th>Predicted</th>\n",
       "    </tr>\n",
       "  </thead>\n",
       "  <tbody>\n",
       "    <tr>\n",
       "      <th>0</th>\n",
       "      <td>0.162742</td>\n",
       "    </tr>\n",
       "    <tr>\n",
       "      <th>1</th>\n",
       "      <td>0.068922</td>\n",
       "    </tr>\n",
       "    <tr>\n",
       "      <th>2</th>\n",
       "      <td>0.553953</td>\n",
       "    </tr>\n",
       "    <tr>\n",
       "      <th>3</th>\n",
       "      <td>0.103682</td>\n",
       "    </tr>\n",
       "    <tr>\n",
       "      <th>4</th>\n",
       "      <td>0.628681</td>\n",
       "    </tr>\n",
       "  </tbody>\n",
       "</table>\n",
       "</div>"
      ],
      "text/plain": [
       "   Predicted\n",
       "0   0.162742\n",
       "1   0.068922\n",
       "2   0.553953\n",
       "3   0.103682\n",
       "4   0.628681"
      ]
     },
     "execution_count": 75,
     "metadata": {},
     "output_type": "execute_result"
    }
   ],
   "source": [
    "y_pred =regressor.predict(X_test)\n",
    "y_pred =pd.DataFrame(y_pred,columns=['Predicted'])\n",
    "regressor"
   ]
  },
  {
   "cell_type": "code",
   "execution_count": 76,
   "metadata": {},
   "outputs": [
    {
     "name": "stdout",
     "output_type": "stream",
     "text": [
      "Mean Absolute Error:  0.07598513538212773\n",
      "Mean Squared Error:  0.012550034967724142\n",
      "Root Mean Squared Error:  0.11202693858052241\n",
      "R square value : 0.8028460008840621\n"
     ]
    }
   ],
   "source": [
    "from sklearn import metrics\n",
    "print('Mean Absolute Error: ',metrics.mean_absolute_error(Y_test,y_pred))\n",
    "print('Mean Squared Error: ',metrics.mean_squared_error(Y_test,y_pred))\n",
    "print('Root Mean Squared Error: ',np.sqrt(metrics.mean_squared_error(Y_test,y_pred)))\n",
    "print('R square value :',metrics.r2_score(Y_test, y_pred))"
   ]
  }
 ],
 "metadata": {
  "kernelspec": {
   "display_name": "Python 3",
   "language": "python",
   "name": "python3"
  },
  "language_info": {
   "codemirror_mode": {
    "name": "ipython",
    "version": 3
   },
   "file_extension": ".py",
   "mimetype": "text/x-python",
   "name": "python",
   "nbconvert_exporter": "python",
   "pygments_lexer": "ipython3",
   "version": "3.7.3"
  }
 },
 "nbformat": 4,
 "nbformat_minor": 2
}
