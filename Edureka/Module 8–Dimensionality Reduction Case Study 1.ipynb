{
 "cells": [
  {
   "cell_type": "markdown",
   "metadata": {},
   "source": [
    "1.Scikit learn comes with pre-loaded dataset, load the digits dataset from that collection and write a helper function to plot the image using matplotlib.[Hint:Explore datasets module from scikit learn"
   ]
  },
  {
   "cell_type": "code",
   "execution_count": 129,
   "metadata": {},
   "outputs": [],
   "source": [
    "from sklearn.datasets import load_digits"
   ]
  },
  {
   "cell_type": "code",
   "execution_count": 130,
   "metadata": {},
   "outputs": [],
   "source": [
    "digits = load_digits()"
   ]
  },
  {
   "cell_type": "code",
   "execution_count": 131,
   "metadata": {},
   "outputs": [
    {
     "data": {
      "text/plain": [
       "{'data': array([[ 0.,  0.,  5., ...,  0.,  0.,  0.],\n",
       "        [ 0.,  0.,  0., ..., 10.,  0.,  0.],\n",
       "        [ 0.,  0.,  0., ..., 16.,  9.,  0.],\n",
       "        ...,\n",
       "        [ 0.,  0.,  1., ...,  6.,  0.,  0.],\n",
       "        [ 0.,  0.,  2., ..., 12.,  0.,  0.],\n",
       "        [ 0.,  0., 10., ..., 12.,  1.,  0.]]),\n",
       " 'target': array([0, 1, 2, ..., 8, 9, 8]),\n",
       " 'target_names': array([0, 1, 2, 3, 4, 5, 6, 7, 8, 9]),\n",
       " 'images': array([[[ 0.,  0.,  5., ...,  1.,  0.,  0.],\n",
       "         [ 0.,  0., 13., ..., 15.,  5.,  0.],\n",
       "         [ 0.,  3., 15., ..., 11.,  8.,  0.],\n",
       "         ...,\n",
       "         [ 0.,  4., 11., ..., 12.,  7.,  0.],\n",
       "         [ 0.,  2., 14., ..., 12.,  0.,  0.],\n",
       "         [ 0.,  0.,  6., ...,  0.,  0.,  0.]],\n",
       " \n",
       "        [[ 0.,  0.,  0., ...,  5.,  0.,  0.],\n",
       "         [ 0.,  0.,  0., ...,  9.,  0.,  0.],\n",
       "         [ 0.,  0.,  3., ...,  6.,  0.,  0.],\n",
       "         ...,\n",
       "         [ 0.,  0.,  1., ...,  6.,  0.,  0.],\n",
       "         [ 0.,  0.,  1., ...,  6.,  0.,  0.],\n",
       "         [ 0.,  0.,  0., ..., 10.,  0.,  0.]],\n",
       " \n",
       "        [[ 0.,  0.,  0., ..., 12.,  0.,  0.],\n",
       "         [ 0.,  0.,  3., ..., 14.,  0.,  0.],\n",
       "         [ 0.,  0.,  8., ..., 16.,  0.,  0.],\n",
       "         ...,\n",
       "         [ 0.,  9., 16., ...,  0.,  0.,  0.],\n",
       "         [ 0.,  3., 13., ..., 11.,  5.,  0.],\n",
       "         [ 0.,  0.,  0., ..., 16.,  9.,  0.]],\n",
       " \n",
       "        ...,\n",
       " \n",
       "        [[ 0.,  0.,  1., ...,  1.,  0.,  0.],\n",
       "         [ 0.,  0., 13., ...,  2.,  1.,  0.],\n",
       "         [ 0.,  0., 16., ..., 16.,  5.,  0.],\n",
       "         ...,\n",
       "         [ 0.,  0., 16., ..., 15.,  0.,  0.],\n",
       "         [ 0.,  0., 15., ..., 16.,  0.,  0.],\n",
       "         [ 0.,  0.,  2., ...,  6.,  0.,  0.]],\n",
       " \n",
       "        [[ 0.,  0.,  2., ...,  0.,  0.,  0.],\n",
       "         [ 0.,  0., 14., ..., 15.,  1.,  0.],\n",
       "         [ 0.,  4., 16., ..., 16.,  7.,  0.],\n",
       "         ...,\n",
       "         [ 0.,  0.,  0., ..., 16.,  2.,  0.],\n",
       "         [ 0.,  0.,  4., ..., 16.,  2.,  0.],\n",
       "         [ 0.,  0.,  5., ..., 12.,  0.,  0.]],\n",
       " \n",
       "        [[ 0.,  0., 10., ...,  1.,  0.,  0.],\n",
       "         [ 0.,  2., 16., ...,  1.,  0.,  0.],\n",
       "         [ 0.,  0., 15., ..., 15.,  0.,  0.],\n",
       "         ...,\n",
       "         [ 0.,  4., 16., ..., 16.,  6.,  0.],\n",
       "         [ 0.,  8., 16., ..., 16.,  8.,  0.],\n",
       "         [ 0.,  1.,  8., ..., 12.,  1.,  0.]]]),\n",
       " 'DESCR': \".. _digits_dataset:\\n\\nOptical recognition of handwritten digits dataset\\n--------------------------------------------------\\n\\n**Data Set Characteristics:**\\n\\n    :Number of Instances: 5620\\n    :Number of Attributes: 64\\n    :Attribute Information: 8x8 image of integer pixels in the range 0..16.\\n    :Missing Attribute Values: None\\n    :Creator: E. Alpaydin (alpaydin '@' boun.edu.tr)\\n    :Date: July; 1998\\n\\nThis is a copy of the test set of the UCI ML hand-written digits datasets\\nhttp://archive.ics.uci.edu/ml/datasets/Optical+Recognition+of+Handwritten+Digits\\n\\nThe data set contains images of hand-written digits: 10 classes where\\neach class refers to a digit.\\n\\nPreprocessing programs made available by NIST were used to extract\\nnormalized bitmaps of handwritten digits from a preprinted form. From a\\ntotal of 43 people, 30 contributed to the training set and different 13\\nto the test set. 32x32 bitmaps are divided into nonoverlapping blocks of\\n4x4 and the number of on pixels are counted in each block. This generates\\nan input matrix of 8x8 where each element is an integer in the range\\n0..16. This reduces dimensionality and gives invariance to small\\ndistortions.\\n\\nFor info on NIST preprocessing routines, see M. D. Garris, J. L. Blue, G.\\nT. Candela, D. L. Dimmick, J. Geist, P. J. Grother, S. A. Janet, and C.\\nL. Wilson, NIST Form-Based Handprint Recognition System, NISTIR 5469,\\n1994.\\n\\n.. topic:: References\\n\\n  - C. Kaynak (1995) Methods of Combining Multiple Classifiers and Their\\n    Applications to Handwritten Digit Recognition, MSc Thesis, Institute of\\n    Graduate Studies in Science and Engineering, Bogazici University.\\n  - E. Alpaydin, C. Kaynak (1998) Cascading Classifiers, Kybernetika.\\n  - Ken Tang and Ponnuthurai N. Suganthan and Xi Yao and A. Kai Qin.\\n    Linear dimensionalityreduction using relevance weighted LDA. School of\\n    Electrical and Electronic Engineering Nanyang Technological University.\\n    2005.\\n  - Claudio Gentile. A New Approximate Maximal Margin Classification\\n    Algorithm. NIPS. 2000.\"}"
      ]
     },
     "execution_count": 131,
     "metadata": {},
     "output_type": "execute_result"
    }
   ],
   "source": [
    "digits"
   ]
  },
  {
   "cell_type": "code",
   "execution_count": 132,
   "metadata": {},
   "outputs": [],
   "source": [
    "x=digits.images\n",
    "y=digits.target"
   ]
  },
  {
   "cell_type": "code",
   "execution_count": 133,
   "metadata": {},
   "outputs": [],
   "source": [
    "import matplotlib.pyplot as plt\n",
    "def displayImg(img,y):\n",
    "    plt.imshow(img,cmap='gray')\n",
    "    print(\"target: \",y)\n",
    "    plt.show()"
   ]
  },
  {
   "cell_type": "code",
   "execution_count": 134,
   "metadata": {},
   "outputs": [],
   "source": [
    "def plotImages(images_arr):\n",
    "    fig, axes = plt.subplots(1, 5, figsize=(10,10))\n",
    "    axes = axes.flatten()\n",
    "    for img, ax in zip( images_arr, axes):\n",
    "        ax.imshow(img,cmap='gray')\n",
    "        ax.axis('off')\n",
    "    plt.tight_layout()\n",
    "    plt.show()"
   ]
  },
  {
   "cell_type": "code",
   "execution_count": 135,
   "metadata": {},
   "outputs": [
    {
     "name": "stdout",
     "output_type": "stream",
     "text": [
      "target:  0\n"
     ]
    },
    {
     "data": {
      "image/png": "[encoded data removed]",
      "text/plain": [
       "<Figure size 432x288 with 1 Axes>"
      ]
     },
     "metadata": {
      "needs_background": "light"
     },
     "output_type": "display_data"
    }
   ],
   "source": [
    "#plt.rcParams()\n",
    "displayImg(x[0],y[0])\n"
   ]
  },
  {
   "cell_type": "code",
   "execution_count": 136,
   "metadata": {},
   "outputs": [
    {
     "data": {
      "image/png": "[encoded data removed]",
      "text/plain": [
       "<Figure size 720x720 with 5 Axes>"
      ]
     },
     "metadata": {
      "needs_background": "light"
     },
     "output_type": "display_data"
    }
   ],
   "source": [
    "plotImages(x)"
   ]
  },
  {
   "cell_type": "code",
   "execution_count": 53,
   "metadata": {},
   "outputs": [
    {
     "data": {
      "text/plain": [
       "1797"
      ]
     },
     "execution_count": 53,
     "metadata": {},
     "output_type": "execute_result"
    }
   ],
   "source": [
    "len(x)"
   ]
  },
  {
   "cell_type": "code",
   "execution_count": 137,
   "metadata": {},
   "outputs": [],
   "source": [
    "import pandas as pd\n",
    "import numpy as np"
   ]
  },
  {
   "cell_type": "code",
   "execution_count": 149,
   "metadata": {},
   "outputs": [
    {
     "data": {
      "text/plain": [
       "array([ 0.,  0.,  5., 13.,  9.,  1.,  0.,  0.,  0.,  0., 13., 15., 10.,\n",
       "       15.,  5.,  0.,  0.,  3., 15.,  2.,  0., 11.,  8.,  0.,  0.,  4.,\n",
       "       12.,  0.,  0.,  8.,  8.,  0.,  0.,  5.,  8.,  0.,  0.,  9.,  8.,\n",
       "        0.,  0.,  4., 11.,  0.,  1., 12.,  7.,  0.,  0.,  2., 14.,  5.,\n",
       "       10., 12.,  0.,  0.,  0.,  0.,  6., 13., 10.,  0.,  0.,  0.])"
      ]
     },
     "execution_count": 149,
     "metadata": {},
     "output_type": "execute_result"
    }
   ],
   "source": [
    "a=np.ravel(x[0])\n",
    "a"
   ]
  },
  {
   "cell_type": "code",
   "execution_count": 150,
   "metadata": {},
   "outputs": [],
   "source": [
    "for i in range(1,len(x)):\n",
    "    b=np.ravel(x[i])\n",
    "    a=np.vstack([a,b])\n",
    "    \n",
    "#print(a)    "
   ]
  },
  {
   "cell_type": "code",
   "execution_count": 151,
   "metadata": {},
   "outputs": [
    {
     "data": {
      "text/plain": [
       "1797"
      ]
     },
     "execution_count": 151,
     "metadata": {},
     "output_type": "execute_result"
    }
   ],
   "source": [
    "len(a)"
   ]
  },
  {
   "cell_type": "code",
   "execution_count": 152,
   "metadata": {},
   "outputs": [
    {
     "data": {
      "text/plain": [
       "1797"
      ]
     },
     "execution_count": 152,
     "metadata": {},
     "output_type": "execute_result"
    }
   ],
   "source": [
    "len(y)"
   ]
  },
  {
   "cell_type": "code",
   "execution_count": 153,
   "metadata": {},
   "outputs": [],
   "source": [
    "z=np.hstack([a,np.array(y).reshape(len(y),1)])"
   ]
  },
  {
   "cell_type": "code",
   "execution_count": 154,
   "metadata": {},
   "outputs": [],
   "source": [
    "data=pd.DataFrame(z,dtype=int)"
   ]
  },
  {
   "cell_type": "code",
   "execution_count": 157,
   "metadata": {},
   "outputs": [],
   "source": [
    "data=data.rename(columns={64:'digit'})"
   ]
  },
  {
   "cell_type": "markdown",
   "metadata": {},
   "source": [
    "2.Make a train -test split with 20% of the data set aside for testing. Fit a logistic regression model and observe the accuracy."
   ]
  },
  {
   "cell_type": "code",
   "execution_count": 159,
   "metadata": {},
   "outputs": [
    {
     "name": "stdout",
     "output_type": "stream",
     "text": [
      "(1437, 65)\n",
      "(360, 65)\n"
     ]
    }
   ],
   "source": [
    "from sklearn.model_selection import train_test_split\n",
    "train,test=train_test_split(data,test_size=0.2,random_state=3)\n",
    "print(train.shape)\n",
    "print(test.shape)"
   ]
  },
  {
   "cell_type": "code",
   "execution_count": 160,
   "metadata": {},
   "outputs": [],
   "source": [
    "train_x=train.iloc[:,:-1]\n",
    "train_y=train['digit']\n",
    "test_x=test.iloc[:,:-1]\n",
    "test_y=test['digit']"
   ]
  },
  {
   "cell_type": "code",
   "execution_count": 163,
   "metadata": {},
   "outputs": [
    {
     "name": "stderr",
     "output_type": "stream",
     "text": [
      "D:\\softwares\\Anaconda\\lib\\site-packages\\sklearn\\linear_model\\logistic.py:433: FutureWarning: Default solver will be changed to 'lbfgs' in 0.22. Specify a solver to silence this warning.\n",
      "  FutureWarning)\n",
      "D:\\softwares\\Anaconda\\lib\\site-packages\\sklearn\\linear_model\\logistic.py:460: FutureWarning: Default multi_class will be changed to 'auto' in 0.22. Specify the multi_class option to silence this warning.\n",
      "  \"this warning.\", FutureWarning)\n"
     ]
    },
    {
     "data": {
      "text/plain": [
       "LogisticRegression(C=1.0, class_weight=None, dual=False, fit_intercept=True,\n",
       "          intercept_scaling=1, max_iter=100, multi_class='warn',\n",
       "          n_jobs=None, penalty='l2', random_state=None, solver='warn',\n",
       "          tol=0.0001, verbose=0, warm_start=False)"
      ]
     },
     "execution_count": 163,
     "metadata": {},
     "output_type": "execute_result"
    }
   ],
   "source": [
    "from sklearn.linear_model import LogisticRegression\n",
    "logistic=LogisticRegression()\n",
    "logistic.fit(train_x,train_y)"
   ]
  },
  {
   "cell_type": "code",
   "execution_count": 164,
   "metadata": {},
   "outputs": [
    {
     "data": {
      "text/plain": [
       "0.9527777777777777"
      ]
     },
     "execution_count": 164,
     "metadata": {},
     "output_type": "execute_result"
    }
   ],
   "source": [
    "from sklearn import metrics\n",
    "y_pred=logistic.predict(test_x)\n",
    "metrics.accuracy_score(y_pred,test_y)"
   ]
  },
  {
   "cell_type": "markdown",
   "metadata": {},
   "source": [
    "3.Using scikit learn perform a PCA transformation such that the transformed dataset can explain 95% of the variance in the original dataset. Find out the number of components in the projected subspace.[Hint:Refer to decomposition module of scikit learn]"
   ]
  },
  {
   "cell_type": "code",
   "execution_count": 184,
   "metadata": {},
   "outputs": [],
   "source": [
    "dataPCA=data\n",
    "xdata=dataPCA.iloc[:,:-1]"
   ]
  },
  {
   "cell_type": "code",
   "execution_count": 185,
   "metadata": {},
   "outputs": [
    {
     "name": "stdout",
     "output_type": "stream",
     "text": [
      "0 0.0\n",
      "1 0.14890593583962786\n",
      "2 0.2850936482368944\n",
      "3 0.4030395858761546\n",
      "4 0.48713938008666224\n",
      "5 0.5449635266639954\n",
      "6 0.594132629682615\n",
      "7 0.6372919939178193\n",
      "8 0.6739055534558687\n",
      "9 0.707435955285958\n",
      "10 0.7382263287265188\n",
      "11 0.761948655405748\n",
      "12 0.7846757792110632\n",
      "13 0.8028861768862959\n",
      "14 0.8206240959192393\n",
      "15 0.8353016525440876\n",
      "16 0.849399494107695\n",
      "17 0.8625766277782214\n",
      "18 0.8750627633292513\n",
      "19 0.8852445403929604\n",
      "20 0.894299572776391\n",
      "21 0.9031941498602062\n",
      "22 0.9111603483990185\n",
      "23 0.9188416814891801\n",
      "24 0.9260717474719197\n",
      "25 0.9330275407704162\n",
      "26 0.9389917473659796\n",
      "27 0.9447453054599793\n",
      "28 0.9499002867555197\n",
      "29 0.9547881030202012\n",
      "30 0.9590825310938597\n",
      "31 0.9628191910682694\n",
      "32 0.9663492838519709\n",
      "33 0.9697205644371519\n",
      "34 0.9730005187986854\n",
      "35 0.9760837515596728\n",
      "36 0.9790217983177968\n",
      "37 0.9815879093629435\n",
      "38 0.9838650948281943\n",
      "39 0.9860884293390157\n",
      "40 0.9882027334665751\n",
      "41 0.9901018242795364\n",
      "42 0.9916883533457247\n",
      "43 0.9931999526903914\n",
      "44 0.9946057403272025\n",
      "45 0.9957719632305019\n",
      "46 0.9968468884415459\n",
      "47 0.9978109415065078\n",
      "48 0.9985855717776009\n",
      "49 0.999142783330584\n",
      "50 0.9995471140234804\n",
      "51 0.9997570303506731\n",
      "52 0.9998395100604511\n",
      "53 0.9998920250584977\n",
      "54 0.9999425494303961\n",
      "55 0.9999755455666685\n",
      "56 0.9999879821112063\n",
      "57 0.9999950303903163\n",
      "58 0.9999980447117098\n",
      "59 0.9999991070197107\n",
      "60 0.999999657094298\n",
      "61 1.0\n",
      "62 1.0\n",
      "63 1.0\n"
     ]
    }
   ],
   "source": [
    "\n",
    "from sklearn.decomposition import PCA\n",
    "for i in range(64):\n",
    "    pca = PCA(n_components=i)\n",
    "    pca.fit(xdata)\n",
    "    print (i,pca.explained_variance_ratio_.sum())\n"
   ]
  },
  {
   "cell_type": "code",
   "execution_count": 186,
   "metadata": {},
   "outputs": [
    {
     "data": {
      "text/plain": [
       "PCA(copy=True, iterated_power='auto', n_components=29, random_state=None,\n",
       "  svd_solver='auto', tol=0.0, whiten=False)"
      ]
     },
     "execution_count": 186,
     "metadata": {},
     "output_type": "execute_result"
    }
   ],
   "source": [
    "pca = PCA(n_components=29)\n",
    "pca.fit(xdata)"
   ]
  },
  {
   "cell_type": "code",
   "execution_count": 187,
   "metadata": {},
   "outputs": [
    {
     "data": {
      "text/html": [
       "<div>\n",
       "<style scoped>\n",
       "    .dataframe tbody tr th:only-of-type {\n",
       "        vertical-align: middle;\n",
       "    }\n",
       "\n",
       "    .dataframe tbody tr th {\n",
       "        vertical-align: top;\n",
       "    }\n",
       "\n",
       "    .dataframe thead th {\n",
       "        text-align: right;\n",
       "    }\n",
       "</style>\n",
       "<table border=\"1\" class=\"dataframe\">\n",
       "  <thead>\n",
       "    <tr style=\"text-align: right;\">\n",
       "      <th></th>\n",
       "      <th>0</th>\n",
       "      <th>1</th>\n",
       "      <th>2</th>\n",
       "      <th>3</th>\n",
       "      <th>4</th>\n",
       "      <th>5</th>\n",
       "      <th>6</th>\n",
       "      <th>7</th>\n",
       "      <th>8</th>\n",
       "      <th>9</th>\n",
       "      <th>...</th>\n",
       "      <th>19</th>\n",
       "      <th>20</th>\n",
       "      <th>21</th>\n",
       "      <th>22</th>\n",
       "      <th>23</th>\n",
       "      <th>24</th>\n",
       "      <th>25</th>\n",
       "      <th>26</th>\n",
       "      <th>27</th>\n",
       "      <th>28</th>\n",
       "    </tr>\n",
       "  </thead>\n",
       "  <tbody>\n",
       "    <tr>\n",
       "      <th>0</th>\n",
       "      <td>-1.259466</td>\n",
       "      <td>21.274883</td>\n",
       "      <td>-9.463055</td>\n",
       "      <td>13.014189</td>\n",
       "      <td>-7.128823</td>\n",
       "      <td>-7.440659</td>\n",
       "      <td>3.252837</td>\n",
       "      <td>2.553470</td>\n",
       "      <td>-0.581842</td>\n",
       "      <td>3.625697</td>\n",
       "      <td>...</td>\n",
       "      <td>-3.462141</td>\n",
       "      <td>2.680803</td>\n",
       "      <td>1.009460</td>\n",
       "      <td>2.009851</td>\n",
       "      <td>1.295437</td>\n",
       "      <td>1.179166</td>\n",
       "      <td>2.300536</td>\n",
       "      <td>3.671725</td>\n",
       "      <td>-0.943129</td>\n",
       "      <td>-1.133116</td>\n",
       "    </tr>\n",
       "    <tr>\n",
       "      <th>1</th>\n",
       "      <td>7.957611</td>\n",
       "      <td>-20.768699</td>\n",
       "      <td>4.439506</td>\n",
       "      <td>-14.893664</td>\n",
       "      <td>5.896249</td>\n",
       "      <td>-6.485622</td>\n",
       "      <td>2.126228</td>\n",
       "      <td>-4.615936</td>\n",
       "      <td>3.587450</td>\n",
       "      <td>-1.074703</td>\n",
       "      <td>...</td>\n",
       "      <td>-5.255921</td>\n",
       "      <td>-1.206028</td>\n",
       "      <td>-4.837322</td>\n",
       "      <td>0.859991</td>\n",
       "      <td>-2.974623</td>\n",
       "      <td>5.287670</td>\n",
       "      <td>0.119164</td>\n",
       "      <td>2.182813</td>\n",
       "      <td>-0.524693</td>\n",
       "      <td>2.321924</td>\n",
       "    </tr>\n",
       "    <tr>\n",
       "      <th>2</th>\n",
       "      <td>6.991923</td>\n",
       "      <td>-9.955986</td>\n",
       "      <td>2.958558</td>\n",
       "      <td>-12.288302</td>\n",
       "      <td>-18.126023</td>\n",
       "      <td>-4.507663</td>\n",
       "      <td>1.843123</td>\n",
       "      <td>-16.415200</td>\n",
       "      <td>0.719233</td>\n",
       "      <td>4.255808</td>\n",
       "      <td>...</td>\n",
       "      <td>8.731604</td>\n",
       "      <td>4.951693</td>\n",
       "      <td>-2.464678</td>\n",
       "      <td>5.996714</td>\n",
       "      <td>0.103986</td>\n",
       "      <td>-3.064066</td>\n",
       "      <td>0.167453</td>\n",
       "      <td>4.223083</td>\n",
       "      <td>2.148807</td>\n",
       "      <td>0.821365</td>\n",
       "    </tr>\n",
       "    <tr>\n",
       "      <th>3</th>\n",
       "      <td>-15.906105</td>\n",
       "      <td>3.332464</td>\n",
       "      <td>9.824372</td>\n",
       "      <td>-12.275838</td>\n",
       "      <td>6.965169</td>\n",
       "      <td>1.089483</td>\n",
       "      <td>-1.042085</td>\n",
       "      <td>10.973557</td>\n",
       "      <td>-3.259736</td>\n",
       "      <td>6.498754</td>\n",
       "      <td>...</td>\n",
       "      <td>-3.876880</td>\n",
       "      <td>0.269417</td>\n",
       "      <td>3.624070</td>\n",
       "      <td>2.537532</td>\n",
       "      <td>-1.355775</td>\n",
       "      <td>-1.741957</td>\n",
       "      <td>-1.340139</td>\n",
       "      <td>-5.848265</td>\n",
       "      <td>4.675831</td>\n",
       "      <td>-1.108978</td>\n",
       "    </tr>\n",
       "    <tr>\n",
       "      <th>4</th>\n",
       "      <td>23.306867</td>\n",
       "      <td>4.269061</td>\n",
       "      <td>-5.675129</td>\n",
       "      <td>-13.851524</td>\n",
       "      <td>-0.358124</td>\n",
       "      <td>-2.857574</td>\n",
       "      <td>-0.720497</td>\n",
       "      <td>13.041696</td>\n",
       "      <td>-3.835412</td>\n",
       "      <td>13.414164</td>\n",
       "      <td>...</td>\n",
       "      <td>5.035636</td>\n",
       "      <td>0.207010</td>\n",
       "      <td>5.740131</td>\n",
       "      <td>-7.612906</td>\n",
       "      <td>3.991372</td>\n",
       "      <td>2.781523</td>\n",
       "      <td>-0.166350</td>\n",
       "      <td>0.483090</td>\n",
       "      <td>0.632364</td>\n",
       "      <td>-3.306584</td>\n",
       "    </tr>\n",
       "  </tbody>\n",
       "</table>\n",
       "<p>5 rows × 29 columns</p>\n",
       "</div>"
      ],
      "text/plain": [
       "          0          1         2          3          4         5         6   \\\n",
       "0  -1.259466  21.274883 -9.463055  13.014189  -7.128823 -7.440659  3.252837   \n",
       "1   7.957611 -20.768699  4.439506 -14.893664   5.896249 -6.485622  2.126228   \n",
       "2   6.991923  -9.955986  2.958558 -12.288302 -18.126023 -4.507663  1.843123   \n",
       "3 -15.906105   3.332464  9.824372 -12.275838   6.965169  1.089483 -1.042085   \n",
       "4  23.306867   4.269061 -5.675129 -13.851524  -0.358124 -2.857574 -0.720497   \n",
       "\n",
       "          7         8          9   ...        19        20        21  \\\n",
       "0   2.553470 -0.581842   3.625697  ... -3.462141  2.680803  1.009460   \n",
       "1  -4.615936  3.587450  -1.074703  ... -5.255921 -1.206028 -4.837322   \n",
       "2 -16.415200  0.719233   4.255808  ...  8.731604  4.951693 -2.464678   \n",
       "3  10.973557 -3.259736   6.498754  ... -3.876880  0.269417  3.624070   \n",
       "4  13.041696 -3.835412  13.414164  ...  5.035636  0.207010  5.740131   \n",
       "\n",
       "         22        23        24        25        26        27        28  \n",
       "0  2.009851  1.295437  1.179166  2.300536  3.671725 -0.943129 -1.133116  \n",
       "1  0.859991 -2.974623  5.287670  0.119164  2.182813 -0.524693  2.321924  \n",
       "2  5.996714  0.103986 -3.064066  0.167453  4.223083  2.148807  0.821365  \n",
       "3  2.537532 -1.355775 -1.741957 -1.340139 -5.848265  4.675831 -1.108978  \n",
       "4 -7.612906  3.991372  2.781523 -0.166350  0.483090  0.632364 -3.306584  \n",
       "\n",
       "[5 rows x 29 columns]"
      ]
     },
     "execution_count": 187,
     "metadata": {},
     "output_type": "execute_result"
    }
   ],
   "source": [
    "existing_2d = pca.transform(xdata)\n",
    "existing_df_2d = pd.DataFrame(existing_2d)\n",
    "existing_df_2d.index = dataPCA.index\n",
    "#existing_df_2d.columns = ['PC1','PC2']\n",
    "existing_df_2d.head()"
   ]
  },
  {
   "cell_type": "code",
   "execution_count": 189,
   "metadata": {},
   "outputs": [],
   "source": [
    "existing_df_2d['digit']=dataPCA['digit']"
   ]
  },
  {
   "cell_type": "code",
   "execution_count": 190,
   "metadata": {},
   "outputs": [
    {
     "data": {
      "text/html": [
       "<div>\n",
       "<style scoped>\n",
       "    .dataframe tbody tr th:only-of-type {\n",
       "        vertical-align: middle;\n",
       "    }\n",
       "\n",
       "    .dataframe tbody tr th {\n",
       "        vertical-align: top;\n",
       "    }\n",
       "\n",
       "    .dataframe thead th {\n",
       "        text-align: right;\n",
       "    }\n",
       "</style>\n",
       "<table border=\"1\" class=\"dataframe\">\n",
       "  <thead>\n",
       "    <tr style=\"text-align: right;\">\n",
       "      <th></th>\n",
       "      <th>0</th>\n",
       "      <th>1</th>\n",
       "      <th>2</th>\n",
       "      <th>3</th>\n",
       "      <th>4</th>\n",
       "      <th>5</th>\n",
       "      <th>6</th>\n",
       "      <th>7</th>\n",
       "      <th>8</th>\n",
       "      <th>9</th>\n",
       "      <th>...</th>\n",
       "      <th>20</th>\n",
       "      <th>21</th>\n",
       "      <th>22</th>\n",
       "      <th>23</th>\n",
       "      <th>24</th>\n",
       "      <th>25</th>\n",
       "      <th>26</th>\n",
       "      <th>27</th>\n",
       "      <th>28</th>\n",
       "      <th>digit</th>\n",
       "    </tr>\n",
       "  </thead>\n",
       "  <tbody>\n",
       "    <tr>\n",
       "      <th>0</th>\n",
       "      <td>-1.259466</td>\n",
       "      <td>21.274883</td>\n",
       "      <td>-9.463055</td>\n",
       "      <td>13.014189</td>\n",
       "      <td>-7.128823</td>\n",
       "      <td>-7.440659</td>\n",
       "      <td>3.252837</td>\n",
       "      <td>2.553470</td>\n",
       "      <td>-0.581842</td>\n",
       "      <td>3.625697</td>\n",
       "      <td>...</td>\n",
       "      <td>2.680803</td>\n",
       "      <td>1.009460</td>\n",
       "      <td>2.009851</td>\n",
       "      <td>1.295437</td>\n",
       "      <td>1.179166</td>\n",
       "      <td>2.300536</td>\n",
       "      <td>3.671725</td>\n",
       "      <td>-0.943129</td>\n",
       "      <td>-1.133116</td>\n",
       "      <td>0</td>\n",
       "    </tr>\n",
       "    <tr>\n",
       "      <th>1</th>\n",
       "      <td>7.957611</td>\n",
       "      <td>-20.768699</td>\n",
       "      <td>4.439506</td>\n",
       "      <td>-14.893664</td>\n",
       "      <td>5.896249</td>\n",
       "      <td>-6.485622</td>\n",
       "      <td>2.126228</td>\n",
       "      <td>-4.615936</td>\n",
       "      <td>3.587450</td>\n",
       "      <td>-1.074703</td>\n",
       "      <td>...</td>\n",
       "      <td>-1.206028</td>\n",
       "      <td>-4.837322</td>\n",
       "      <td>0.859991</td>\n",
       "      <td>-2.974623</td>\n",
       "      <td>5.287670</td>\n",
       "      <td>0.119164</td>\n",
       "      <td>2.182813</td>\n",
       "      <td>-0.524693</td>\n",
       "      <td>2.321924</td>\n",
       "      <td>1</td>\n",
       "    </tr>\n",
       "    <tr>\n",
       "      <th>2</th>\n",
       "      <td>6.991923</td>\n",
       "      <td>-9.955986</td>\n",
       "      <td>2.958558</td>\n",
       "      <td>-12.288302</td>\n",
       "      <td>-18.126023</td>\n",
       "      <td>-4.507663</td>\n",
       "      <td>1.843123</td>\n",
       "      <td>-16.415200</td>\n",
       "      <td>0.719233</td>\n",
       "      <td>4.255808</td>\n",
       "      <td>...</td>\n",
       "      <td>4.951693</td>\n",
       "      <td>-2.464678</td>\n",
       "      <td>5.996714</td>\n",
       "      <td>0.103986</td>\n",
       "      <td>-3.064066</td>\n",
       "      <td>0.167453</td>\n",
       "      <td>4.223083</td>\n",
       "      <td>2.148807</td>\n",
       "      <td>0.821365</td>\n",
       "      <td>2</td>\n",
       "    </tr>\n",
       "    <tr>\n",
       "      <th>3</th>\n",
       "      <td>-15.906105</td>\n",
       "      <td>3.332464</td>\n",
       "      <td>9.824372</td>\n",
       "      <td>-12.275838</td>\n",
       "      <td>6.965169</td>\n",
       "      <td>1.089483</td>\n",
       "      <td>-1.042085</td>\n",
       "      <td>10.973557</td>\n",
       "      <td>-3.259736</td>\n",
       "      <td>6.498754</td>\n",
       "      <td>...</td>\n",
       "      <td>0.269417</td>\n",
       "      <td>3.624070</td>\n",
       "      <td>2.537532</td>\n",
       "      <td>-1.355775</td>\n",
       "      <td>-1.741957</td>\n",
       "      <td>-1.340139</td>\n",
       "      <td>-5.848265</td>\n",
       "      <td>4.675831</td>\n",
       "      <td>-1.108978</td>\n",
       "      <td>3</td>\n",
       "    </tr>\n",
       "    <tr>\n",
       "      <th>4</th>\n",
       "      <td>23.306867</td>\n",
       "      <td>4.269061</td>\n",
       "      <td>-5.675129</td>\n",
       "      <td>-13.851524</td>\n",
       "      <td>-0.358124</td>\n",
       "      <td>-2.857574</td>\n",
       "      <td>-0.720497</td>\n",
       "      <td>13.041696</td>\n",
       "      <td>-3.835412</td>\n",
       "      <td>13.414164</td>\n",
       "      <td>...</td>\n",
       "      <td>0.207010</td>\n",
       "      <td>5.740131</td>\n",
       "      <td>-7.612906</td>\n",
       "      <td>3.991372</td>\n",
       "      <td>2.781523</td>\n",
       "      <td>-0.166350</td>\n",
       "      <td>0.483090</td>\n",
       "      <td>0.632364</td>\n",
       "      <td>-3.306584</td>\n",
       "      <td>4</td>\n",
       "    </tr>\n",
       "  </tbody>\n",
       "</table>\n",
       "<p>5 rows × 30 columns</p>\n",
       "</div>"
      ],
      "text/plain": [
       "           0          1         2          3          4         5         6  \\\n",
       "0  -1.259466  21.274883 -9.463055  13.014189  -7.128823 -7.440659  3.252837   \n",
       "1   7.957611 -20.768699  4.439506 -14.893664   5.896249 -6.485622  2.126228   \n",
       "2   6.991923  -9.955986  2.958558 -12.288302 -18.126023 -4.507663  1.843123   \n",
       "3 -15.906105   3.332464  9.824372 -12.275838   6.965169  1.089483 -1.042085   \n",
       "4  23.306867   4.269061 -5.675129 -13.851524  -0.358124 -2.857574 -0.720497   \n",
       "\n",
       "           7         8          9  ...        20        21        22  \\\n",
       "0   2.553470 -0.581842   3.625697  ...  2.680803  1.009460  2.009851   \n",
       "1  -4.615936  3.587450  -1.074703  ... -1.206028 -4.837322  0.859991   \n",
       "2 -16.415200  0.719233   4.255808  ...  4.951693 -2.464678  5.996714   \n",
       "3  10.973557 -3.259736   6.498754  ...  0.269417  3.624070  2.537532   \n",
       "4  13.041696 -3.835412  13.414164  ...  0.207010  5.740131 -7.612906   \n",
       "\n",
       "         23        24        25        26        27        28  digit  \n",
       "0  1.295437  1.179166  2.300536  3.671725 -0.943129 -1.133116      0  \n",
       "1 -2.974623  5.287670  0.119164  2.182813 -0.524693  2.321924      1  \n",
       "2  0.103986 -3.064066  0.167453  4.223083  2.148807  0.821365      2  \n",
       "3 -1.355775 -1.741957 -1.340139 -5.848265  4.675831 -1.108978      3  \n",
       "4  3.991372  2.781523 -0.166350  0.483090  0.632364 -3.306584      4  \n",
       "\n",
       "[5 rows x 30 columns]"
      ]
     },
     "execution_count": 190,
     "metadata": {},
     "output_type": "execute_result"
    }
   ],
   "source": [
    "existing_df_2d.head()"
   ]
  },
  {
   "cell_type": "markdown",
   "metadata": {},
   "source": [
    "4.Transform the dataset and fit a logistic regression and observe the accuracy. Compare it with the previous model andcomment on the accuracy.[Hint: Project both the train and test samples to the new subspace]"
   ]
  },
  {
   "cell_type": "code",
   "execution_count": 191,
   "metadata": {},
   "outputs": [
    {
     "name": "stdout",
     "output_type": "stream",
     "text": [
      "(1437, 30)\n",
      "(360, 30)\n"
     ]
    }
   ],
   "source": [
    "from sklearn.model_selection import train_test_split\n",
    "train,test=train_test_split(existing_df_2d,test_size=0.2,random_state=3)\n",
    "print(train.shape)\n",
    "print(test.shape)"
   ]
  },
  {
   "cell_type": "code",
   "execution_count": 192,
   "metadata": {},
   "outputs": [],
   "source": [
    "train_x=train.iloc[:,:-1]\n",
    "train_y=train['digit']\n",
    "test_x=test.iloc[:,:-1]\n",
    "test_y=test['digit']"
   ]
  },
  {
   "cell_type": "code",
   "execution_count": 193,
   "metadata": {},
   "outputs": [
    {
     "name": "stderr",
     "output_type": "stream",
     "text": [
      "D:\\softwares\\Anaconda\\lib\\site-packages\\sklearn\\linear_model\\logistic.py:433: FutureWarning: Default solver will be changed to 'lbfgs' in 0.22. Specify a solver to silence this warning.\n",
      "  FutureWarning)\n",
      "D:\\softwares\\Anaconda\\lib\\site-packages\\sklearn\\linear_model\\logistic.py:460: FutureWarning: Default multi_class will be changed to 'auto' in 0.22. Specify the multi_class option to silence this warning.\n",
      "  \"this warning.\", FutureWarning)\n"
     ]
    },
    {
     "data": {
      "text/plain": [
       "LogisticRegression(C=1.0, class_weight=None, dual=False, fit_intercept=True,\n",
       "          intercept_scaling=1, max_iter=100, multi_class='warn',\n",
       "          n_jobs=None, penalty='l2', random_state=None, solver='warn',\n",
       "          tol=0.0001, verbose=0, warm_start=False)"
      ]
     },
     "execution_count": 193,
     "metadata": {},
     "output_type": "execute_result"
    }
   ],
   "source": [
    "from sklearn.linear_model import LogisticRegression\n",
    "logistic=LogisticRegression()\n",
    "logistic.fit(train_x,train_y)"
   ]
  },
  {
   "cell_type": "code",
   "execution_count": 194,
   "metadata": {},
   "outputs": [
    {
     "data": {
      "text/plain": [
       "0.9527777777777777"
      ]
     },
     "execution_count": 194,
     "metadata": {},
     "output_type": "execute_result"
    }
   ],
   "source": [
    "from sklearn import metrics\n",
    "y_pred=logistic.predict(test_x)\n",
    "metrics.accuracy_score(y_pred,test_y) #getting same accuracy "
   ]
  },
  {
   "cell_type": "markdown",
   "metadata": {},
   "source": [
    "5.Compute the confusion matrix and count the number of instances that has gone wrong. For each of the wrong sample,plot the digit along with predicted and original label."
   ]
  },
  {
   "cell_type": "code",
   "execution_count": 195,
   "metadata": {},
   "outputs": [],
   "source": [
    "import seaborn as sns"
   ]
  },
  {
   "cell_type": "code",
   "execution_count": 198,
   "metadata": {},
   "outputs": [],
   "source": [
    "cm=metrics.confusion_matrix(y_pred,test_y)"
   ]
  },
  {
   "cell_type": "code",
   "execution_count": 200,
   "metadata": {},
   "outputs": [
    {
     "data": {
      "text/plain": [
       "<matplotlib.axes._subplots.AxesSubplot at 0x1a3b22540f0>"
      ]
     },
     "execution_count": 200,
     "metadata": {},
     "output_type": "execute_result"
    },
    {
     "data": {
      "image/png": "[encoded data removed]",
      "text/plain": [
       "<Figure size 432x288 with 2 Axes>"
      ]
     },
     "metadata": {
      "needs_background": "light"
     },
     "output_type": "display_data"
    }
   ],
   "source": [
    "sns.heatmap(cm,annot=True)"
   ]
  },
  {
   "cell_type": "code",
   "execution_count": 207,
   "metadata": {},
   "outputs": [],
   "source": [
    "final=pd.DataFrame({'test':test_y,'pred':y_pred})"
   ]
  },
  {
   "cell_type": "code",
   "execution_count": 210,
   "metadata": {},
   "outputs": [
    {
     "data": {
      "text/html": [
       "<div>\n",
       "<style scoped>\n",
       "    .dataframe tbody tr th:only-of-type {\n",
       "        vertical-align: middle;\n",
       "    }\n",
       "\n",
       "    .dataframe tbody tr th {\n",
       "        vertical-align: top;\n",
       "    }\n",
       "\n",
       "    .dataframe thead th {\n",
       "        text-align: right;\n",
       "    }\n",
       "</style>\n",
       "<table border=\"1\" class=\"dataframe\">\n",
       "  <thead>\n",
       "    <tr style=\"text-align: right;\">\n",
       "      <th></th>\n",
       "      <th>test</th>\n",
       "      <th>pred</th>\n",
       "    </tr>\n",
       "  </thead>\n",
       "  <tbody>\n",
       "    <tr>\n",
       "      <th>746</th>\n",
       "      <td>4</td>\n",
       "      <td>7</td>\n",
       "    </tr>\n",
       "    <tr>\n",
       "      <th>1660</th>\n",
       "      <td>4</td>\n",
       "      <td>8</td>\n",
       "    </tr>\n",
       "    <tr>\n",
       "      <th>361</th>\n",
       "      <td>9</td>\n",
       "      <td>7</td>\n",
       "    </tr>\n",
       "    <tr>\n",
       "      <th>1551</th>\n",
       "      <td>6</td>\n",
       "      <td>2</td>\n",
       "    </tr>\n",
       "    <tr>\n",
       "      <th>378</th>\n",
       "      <td>8</td>\n",
       "      <td>3</td>\n",
       "    </tr>\n",
       "    <tr>\n",
       "      <th>27</th>\n",
       "      <td>7</td>\n",
       "      <td>4</td>\n",
       "    </tr>\n",
       "    <tr>\n",
       "      <th>1018</th>\n",
       "      <td>5</td>\n",
       "      <td>9</td>\n",
       "    </tr>\n",
       "    <tr>\n",
       "      <th>69</th>\n",
       "      <td>9</td>\n",
       "      <td>8</td>\n",
       "    </tr>\n",
       "    <tr>\n",
       "      <th>951</th>\n",
       "      <td>5</td>\n",
       "      <td>9</td>\n",
       "    </tr>\n",
       "    <tr>\n",
       "      <th>1384</th>\n",
       "      <td>4</td>\n",
       "      <td>6</td>\n",
       "    </tr>\n",
       "    <tr>\n",
       "      <th>5</th>\n",
       "      <td>5</td>\n",
       "      <td>9</td>\n",
       "    </tr>\n",
       "    <tr>\n",
       "      <th>37</th>\n",
       "      <td>9</td>\n",
       "      <td>5</td>\n",
       "    </tr>\n",
       "    <tr>\n",
       "      <th>1666</th>\n",
       "      <td>8</td>\n",
       "      <td>7</td>\n",
       "    </tr>\n",
       "    <tr>\n",
       "      <th>578</th>\n",
       "      <td>3</td>\n",
       "      <td>2</td>\n",
       "    </tr>\n",
       "    <tr>\n",
       "      <th>87</th>\n",
       "      <td>4</td>\n",
       "      <td>5</td>\n",
       "    </tr>\n",
       "    <tr>\n",
       "      <th>751</th>\n",
       "      <td>9</td>\n",
       "      <td>7</td>\n",
       "    </tr>\n",
       "    <tr>\n",
       "      <th>492</th>\n",
       "      <td>6</td>\n",
       "      <td>8</td>\n",
       "    </tr>\n",
       "  </tbody>\n",
       "</table>\n",
       "</div>"
      ],
      "text/plain": [
       "      test  pred\n",
       "746      4     7\n",
       "1660     4     8\n",
       "361      9     7\n",
       "1551     6     2\n",
       "378      8     3\n",
       "27       7     4\n",
       "1018     5     9\n",
       "69       9     8\n",
       "951      5     9\n",
       "1384     4     6\n",
       "5        5     9\n",
       "37       9     5\n",
       "1666     8     7\n",
       "578      3     2\n",
       "87       4     5\n",
       "751      9     7\n",
       "492      6     8"
      ]
     },
     "execution_count": 210,
     "metadata": {},
     "output_type": "execute_result"
    }
   ],
   "source": [
    "final[final['test']!=final['pred']]"
   ]
  },
  {
   "cell_type": "code",
   "execution_count": 214,
   "metadata": {},
   "outputs": [
    {
     "data": {
      "text/plain": [
       "Int64Index([ 746, 1660,  361, 1551,  378,   27, 1018,   69,  951, 1384,    5,\n",
       "              37, 1666,  578,   87,  751,  492],\n",
       "           dtype='int64')"
      ]
     },
     "execution_count": 214,
     "metadata": {},
     "output_type": "execute_result"
    }
   ],
   "source": [
    "final[final['test']!=final['pred']].index"
   ]
  },
  {
   "cell_type": "code",
   "execution_count": 234,
   "metadata": {},
   "outputs": [
    {
     "name": "stdout",
     "output_type": "stream",
     "text": [
      "target:  4\n"
     ]
    },
    {
     "data": {
      "image/png": "[encoded data removed]",
      "text/plain": [
       "<Figure size 432x288 with 1 Axes>"
      ]
     },
     "metadata": {
      "needs_background": "light"
     },
     "output_type": "display_data"
    },
    {
     "name": "stdout",
     "output_type": "stream",
     "text": [
      "Predicted: 7\n",
      "-----------------\n",
      "target:  4\n"
     ]
    },
    {
     "data": {
      "image/png": "[encoded data removed]",
      "text/plain": [
       "<Figure size 432x288 with 1 Axes>"
      ]
     },
     "metadata": {
      "needs_background": "light"
     },
     "output_type": "display_data"
    },
    {
     "name": "stdout",
     "output_type": "stream",
     "text": [
      "Predicted: 8\n",
      "-----------------\n",
      "target:  9\n"
     ]
    },
    {
     "data": {
      "image/png": "[encoded data removed]",
      "text/plain": [
       "<Figure size 432x288 with 1 Axes>"
      ]
     },
     "metadata": {
      "needs_background": "light"
     },
     "output_type": "display_data"
    },
    {
     "name": "stdout",
     "output_type": "stream",
     "text": [
      "Predicted: 7\n",
      "-----------------\n",
      "target:  6\n"
     ]
    },
    {
     "data": {
      "image/png": "[encoded data removed]",
      "text/plain": [
       "<Figure size 432x288 with 1 Axes>"
      ]
     },
     "metadata": {
      "needs_background": "light"
     },
     "output_type": "display_data"
    },
    {
     "name": "stdout",
     "output_type": "stream",
     "text": [
      "Predicted: 2\n",
      "-----------------\n",
      "target:  8\n"
     ]
    },
    {
     "data": {
      "image/png": "[encoded data removed]",
      "text/plain": [
       "<Figure size 432x288 with 1 Axes>"
      ]
     },
     "metadata": {
      "needs_background": "light"
     },
     "output_type": "display_data"
    },
    {
     "name": "stdout",
     "output_type": "stream",
     "text": [
      "Predicted: 3\n",
      "-----------------\n",
      "target:  7\n"
     ]
    },
    {
     "data": {
      "image/png": "[encoded data removed]",
      "text/plain": [
       "<Figure size 432x288 with 1 Axes>"
      ]
     },
     "metadata": {
      "needs_background": "light"
     },
     "output_type": "display_data"
    },
    {
     "name": "stdout",
     "output_type": "stream",
     "text": [
      "Predicted: 4\n",
      "-----------------\n",
      "target:  5\n"
     ]
    },
    {
     "data": {
      "image/png": "[encoded data removed]",
      "text/plain": [
       "<Figure size 432x288 with 1 Axes>"
      ]
     },
     "metadata": {
      "needs_background": "light"
     },
     "output_type": "display_data"
    },
    {
     "name": "stdout",
     "output_type": "stream",
     "text": [
      "Predicted: 9\n",
      "-----------------\n",
      "target:  9\n"
     ]
    },
    {
     "data": {
      "image/png": "[encoded data removed]",
      "text/plain": [
       "<Figure size 432x288 with 1 Axes>"
      ]
     },
     "metadata": {
      "needs_background": "light"
     },
     "output_type": "display_data"
    },
    {
     "name": "stdout",
     "output_type": "stream",
     "text": [
      "Predicted: 8\n",
      "-----------------\n",
      "target:  5\n"
     ]
    },
    {
     "data": {
      "image/png": "[encoded data removed]",
      "text/plain": [
       "<Figure size 432x288 with 1 Axes>"
      ]
     },
     "metadata": {
      "needs_background": "light"
     },
     "output_type": "display_data"
    },
    {
     "name": "stdout",
     "output_type": "stream",
     "text": [
      "Predicted: 9\n",
      "-----------------\n",
      "target:  4\n"
     ]
    },
    {
     "data": {
      "image/png": "[encoded data removed]",
      "text/plain": [
       "<Figure size 432x288 with 1 Axes>"
      ]
     },
     "metadata": {
      "needs_background": "light"
     },
     "output_type": "display_data"
    },
    {
     "name": "stdout",
     "output_type": "stream",
     "text": [
      "Predicted: 6\n",
      "-----------------\n",
      "target:  5\n"
     ]
    },
    {
     "data": {
      "image/png": "[encoded data removed]",
      "text/plain": [
       "<Figure size 432x288 with 1 Axes>"
      ]
     },
     "metadata": {
      "needs_background": "light"
     },
     "output_type": "display_data"
    },
    {
     "name": "stdout",
     "output_type": "stream",
     "text": [
      "Predicted: 9\n",
      "-----------------\n",
      "target:  9\n"
     ]
    },
    {
     "data": {
      "image/png": "[encoded data removed]",
      "text/plain": [
       "<Figure size 432x288 with 1 Axes>"
      ]
     },
     "metadata": {
      "needs_background": "light"
     },
     "output_type": "display_data"
    },
    {
     "name": "stdout",
     "output_type": "stream",
     "text": [
      "Predicted: 5\n",
      "-----------------\n",
      "target:  8\n"
     ]
    },
    {
     "data": {
      "image/png": "[encoded data removed]",
      "text/plain": [
       "<Figure size 432x288 with 1 Axes>"
      ]
     },
     "metadata": {
      "needs_background": "light"
     },
     "output_type": "display_data"
    },
    {
     "name": "stdout",
     "output_type": "stream",
     "text": [
      "Predicted: 7\n",
      "-----------------\n",
      "target:  3\n"
     ]
    },
    {
     "data": {
      "image/png": "[encoded data removed]",
      "text/plain": [
       "<Figure size 432x288 with 1 Axes>"
      ]
     },
     "metadata": {
      "needs_background": "light"
     },
     "output_type": "display_data"
    },
    {
     "name": "stdout",
     "output_type": "stream",
     "text": [
      "Predicted: 2\n",
      "-----------------\n",
      "target:  4\n"
     ]
    },
    {
     "data": {
      "image/png": "[encoded data removed]",
      "text/plain": [
       "<Figure size 432x288 with 1 Axes>"
      ]
     },
     "metadata": {
      "needs_background": "light"
     },
     "output_type": "display_data"
    },
    {
     "name": "stdout",
     "output_type": "stream",
     "text": [
      "Predicted: 5\n",
      "-----------------\n",
      "target:  9\n"
     ]
    },
    {
     "data": {
      "image/png": "[encoded data removed]",
      "text/plain": [
       "<Figure size 432x288 with 1 Axes>"
      ]
     },
     "metadata": {
      "needs_background": "light"
     },
     "output_type": "display_data"
    },
    {
     "name": "stdout",
     "output_type": "stream",
     "text": [
      "Predicted: 7\n",
      "-----------------\n",
      "target:  6\n"
     ]
    },
    {
     "data": {
      "image/png": "[encoded data removed]",
      "text/plain": [
       "<Figure size 432x288 with 1 Axes>"
      ]
     },
     "metadata": {
      "needs_background": "light"
     },
     "output_type": "display_data"
    },
    {
     "name": "stdout",
     "output_type": "stream",
     "text": [
      "Predicted: 8\n",
      "-----------------\n"
     ]
    }
   ],
   "source": [
    "for i in final[final['test']!=final['pred']].index:\n",
    "    displayImg(x[i],y[i])\n",
    "    print('Predicted:',final.loc[i,'pred'],end='\\n-----------------\\n')"
   ]
  }
 ],
 "metadata": {
  "kernelspec": {
   "display_name": "Python 3",
   "language": "python",
   "name": "python3"
  },
  "language_info": {
   "codemirror_mode": {
    "name": "ipython",
    "version": 3
   },
   "file_extension": ".py",
   "mimetype": "text/x-python",
   "name": "python",
   "nbconvert_exporter": "python",
   "pygments_lexer": "ipython3",
   "version": "3.7.3"
  }
 },
 "nbformat": 4,
 "nbformat_minor": 2
}
