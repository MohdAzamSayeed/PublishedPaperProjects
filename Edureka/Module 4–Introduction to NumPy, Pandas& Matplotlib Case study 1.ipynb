{
 "cells": [
  {
   "cell_type": "markdown",
   "metadata": {},
   "source": [
    "1.Extract data from the givenSalaryGender CSV file and store the data from each column in a separate NumPy array"
   ]
  },
  {
   "cell_type": "code",
   "execution_count": 3,
   "metadata": {},
   "outputs": [],
   "source": [
    "import pandas as pd\n",
    "import numpy as np"
   ]
  },
  {
   "cell_type": "code",
   "execution_count": 2,
   "metadata": {},
   "outputs": [],
   "source": [
    "data= pd.read_csv('SalaryGender.csv')"
   ]
  },
  {
   "cell_type": "code",
   "execution_count": 7,
   "metadata": {},
   "outputs": [],
   "source": [
    "x=data.columns"
   ]
  },
  {
   "cell_type": "code",
   "execution_count": 27,
   "metadata": {},
   "outputs": [],
   "source": [
    "for i in x:\n",
    "    exec(f'np_{i}=np.array(data[i])')"
   ]
  },
  {
   "cell_type": "code",
   "execution_count": 28,
   "metadata": {},
   "outputs": [
    {
     "data": {
      "text/plain": [
       "array([140.  ,  30.  ,  35.1 ,  30.  ,  80.  ,  30.  ,  60.  ,  31.1 ,\n",
       "       125.  ,  51.  ,   3.  ,  46.  , 150.  ,   3.  , 130.  ,  15.  ,\n",
       "       130.  ,  84.  , 190.  ,  74.  ,  73.  ,  10.  ,  50.  ,   7.  ,\n",
       "         9.5 ,  15.2 ,  28.6 ,  20.  ,  72.  ,  81.  , 100.  ,  90.  ,\n",
       "        90.  ,  35.  ,  30.  ,  25.  ,  52.  ,   9.  ,  63.  ,  72.  ,\n",
       "        16.  ,  92.  , 106.  ,   2.5 ,   9.  ,  32.  ,  32.  ,  55.  ,\n",
       "        52.  ,  28.  ,  20.  ,  14.7 ,  22.3 ,  34.8 ,  84.  ,  19.  ,\n",
       "       160.  ,  65.  ,  55.  ,   4.6 , 102.  ,  20.  ,  62.  ,  55.  ,\n",
       "        45.6 ,  40.  ,  24.  ,  35.  ,  48.  ,  20.  ,  40.7 ,  15.  ,\n",
       "         0.25, 152.  ,  39.8 ,  12.  ,  30.  , 120.  ,   1.7 ,  36.  ,\n",
       "        96.  ,  38.  ,  90.  ,   9.  ,  25.8 ,  22.  ,  38.8 ,  72.  ,\n",
       "        89.  ,  41.  ,  89.  ,  25.  ,  52.  , 115.  ,  66.  ,  18.6 ,\n",
       "       152.  ,   1.8 ,  35.  ,   4.  ])"
      ]
     },
     "execution_count": 28,
     "metadata": {},
     "output_type": "execute_result"
    }
   ],
   "source": [
    "np_Salary"
   ]
  },
  {
   "cell_type": "code",
   "execution_count": 30,
   "metadata": {},
   "outputs": [
    {
     "data": {
      "text/plain": [
       "array([1, 1, 0, 0, 1, 0, 0, 0, 1, 1, 0, 0, 1, 0, 0, 0, 0, 1, 1, 1, 0, 0,\n",
       "       0, 0, 0, 1, 1, 0, 1, 1, 1, 1, 1, 0, 0, 0, 0, 0, 1, 0, 0, 1, 1, 0,\n",
       "       0, 1, 0, 1, 0, 1, 0, 0, 0, 0, 1, 0, 1, 1, 0, 0, 1, 0, 0, 1, 0, 0,\n",
       "       0, 0, 0, 0, 0, 0, 0, 1, 0, 0, 1, 1, 0, 1, 1, 1, 0, 0, 0, 0, 0, 1,\n",
       "       0, 1, 1, 0, 1, 0, 1, 0, 1, 0, 0, 0], dtype=int64)"
      ]
     },
     "execution_count": 30,
     "metadata": {},
     "output_type": "execute_result"
    }
   ],
   "source": [
    "np_PhD"
   ]
  },
  {
   "cell_type": "markdown",
   "metadata": {},
   "source": [
    "2.Find:1. The number of men with a PhD2. The number of women with a PhD"
   ]
  },
  {
   "cell_type": "code",
   "execution_count": 59,
   "metadata": {},
   "outputs": [
    {
     "data": {
      "text/plain": [
       "1    24\n",
       "0    15\n",
       "Name: Gender, dtype: int64"
      ]
     },
     "execution_count": 59,
     "metadata": {},
     "output_type": "execute_result"
    }
   ],
   "source": [
    "#check=(data['Gender']==1) & (data['PhD']==1)\n",
    "data[data['PhD']==1]['Gender'].value_counts()"
   ]
  },
  {
   "cell_type": "markdown",
   "metadata": {},
   "source": [
    "3.Use SalaryGender CSV file. Store the “Age” and “PhD” columns in one DataFrame and delete the data of all people who don’t have a PhD"
   ]
  },
  {
   "cell_type": "code",
   "execution_count": 61,
   "metadata": {},
   "outputs": [
    {
     "data": {
      "text/html": [
       "<div>\n",
       "<style scoped>\n",
       "    .dataframe tbody tr th:only-of-type {\n",
       "        vertical-align: middle;\n",
       "    }\n",
       "\n",
       "    .dataframe tbody tr th {\n",
       "        vertical-align: top;\n",
       "    }\n",
       "\n",
       "    .dataframe thead th {\n",
       "        text-align: right;\n",
       "    }\n",
       "</style>\n",
       "<table border=\"1\" class=\"dataframe\">\n",
       "  <thead>\n",
       "    <tr style=\"text-align: right;\">\n",
       "      <th></th>\n",
       "      <th>Age</th>\n",
       "      <th>PhD</th>\n",
       "    </tr>\n",
       "  </thead>\n",
       "  <tbody>\n",
       "    <tr>\n",
       "      <th>0</th>\n",
       "      <td>47</td>\n",
       "      <td>1</td>\n",
       "    </tr>\n",
       "    <tr>\n",
       "      <th>1</th>\n",
       "      <td>65</td>\n",
       "      <td>1</td>\n",
       "    </tr>\n",
       "    <tr>\n",
       "      <th>2</th>\n",
       "      <td>56</td>\n",
       "      <td>0</td>\n",
       "    </tr>\n",
       "    <tr>\n",
       "      <th>3</th>\n",
       "      <td>23</td>\n",
       "      <td>0</td>\n",
       "    </tr>\n",
       "    <tr>\n",
       "      <th>4</th>\n",
       "      <td>53</td>\n",
       "      <td>1</td>\n",
       "    </tr>\n",
       "  </tbody>\n",
       "</table>\n",
       "</div>"
      ],
      "text/plain": [
       "   Age  PhD\n",
       "0   47    1\n",
       "1   65    1\n",
       "2   56    0\n",
       "3   23    0\n",
       "4   53    1"
      ]
     },
     "execution_count": 61,
     "metadata": {},
     "output_type": "execute_result"
    }
   ],
   "source": [
    "data3= pd.read_csv('SalaryGender.csv')\n",
    "data3=data3[['Age','PhD']]\n",
    "data3.head()"
   ]
  },
  {
   "cell_type": "code",
   "execution_count": 66,
   "metadata": {},
   "outputs": [],
   "source": [
    "data3.drop(data3[data3['PhD']==0].index, inplace=True)"
   ]
  },
  {
   "cell_type": "code",
   "execution_count": 68,
   "metadata": {},
   "outputs": [
    {
     "data": {
      "text/html": [
       "<div>\n",
       "<style scoped>\n",
       "    .dataframe tbody tr th:only-of-type {\n",
       "        vertical-align: middle;\n",
       "    }\n",
       "\n",
       "    .dataframe tbody tr th {\n",
       "        vertical-align: top;\n",
       "    }\n",
       "\n",
       "    .dataframe thead th {\n",
       "        text-align: right;\n",
       "    }\n",
       "</style>\n",
       "<table border=\"1\" class=\"dataframe\">\n",
       "  <thead>\n",
       "    <tr style=\"text-align: right;\">\n",
       "      <th></th>\n",
       "      <th>Age</th>\n",
       "      <th>PhD</th>\n",
       "    </tr>\n",
       "  </thead>\n",
       "  <tbody>\n",
       "    <tr>\n",
       "      <th>0</th>\n",
       "      <td>47</td>\n",
       "      <td>1</td>\n",
       "    </tr>\n",
       "    <tr>\n",
       "      <th>1</th>\n",
       "      <td>65</td>\n",
       "      <td>1</td>\n",
       "    </tr>\n",
       "    <tr>\n",
       "      <th>4</th>\n",
       "      <td>53</td>\n",
       "      <td>1</td>\n",
       "    </tr>\n",
       "    <tr>\n",
       "      <th>8</th>\n",
       "      <td>44</td>\n",
       "      <td>1</td>\n",
       "    </tr>\n",
       "    <tr>\n",
       "      <th>9</th>\n",
       "      <td>63</td>\n",
       "      <td>1</td>\n",
       "    </tr>\n",
       "  </tbody>\n",
       "</table>\n",
       "</div>"
      ],
      "text/plain": [
       "   Age  PhD\n",
       "0   47    1\n",
       "1   65    1\n",
       "4   53    1\n",
       "8   44    1\n",
       "9   63    1"
      ]
     },
     "execution_count": 68,
     "metadata": {},
     "output_type": "execute_result"
    }
   ],
   "source": [
    "data3.head(5)"
   ]
  },
  {
   "cell_type": "markdown",
   "metadata": {},
   "source": [
    "4.Calculate the total number of people who have a PhD degreefrom SalaryGender CSV file."
   ]
  },
  {
   "cell_type": "code",
   "execution_count": 104,
   "metadata": {},
   "outputs": [
    {
     "data": {
      "text/plain": [
       "39"
      ]
     },
     "execution_count": 104,
     "metadata": {},
     "output_type": "execute_result"
    }
   ],
   "source": [
    "data[data['PhD']==1]['PhD'].count()"
   ]
  },
  {
   "cell_type": "markdown",
   "metadata": {},
   "source": [
    "5.How  do  you  Count  The  Number  Of  Times  Each  Value  Appears  In  An  Array  Of Integers?[0, 5, 4, 0, 4, 4, 3, 0, 0, 5, 2, 1, 1, 9]Answer should be array([4, 2, 1, 1, 3, 2, 0, 0, 0, 1]) which means 0 comes 4 times, 1 comes 2 times, 2 comes 1 time, 3 comes 1 time and so on. **Ask for Help"
   ]
  },
  {
   "cell_type": "code",
   "execution_count": 146,
   "metadata": {},
   "outputs": [],
   "source": [
    "arr= np.array([0, 5, 4, 0, 4, 4, 3, 0, 0, 5, 2, 1, 1, 9])\n",
    "[4, 2, 1, 1, 3, 2, 0, 0, 0, 1]"
   ]
  },
  {
   "cell_type": "code",
   "execution_count": 188,
   "metadata": {},
   "outputs": [
    {
     "data": {
      "text/html": [
       "<div>\n",
       "<style scoped>\n",
       "    .dataframe tbody tr th:only-of-type {\n",
       "        vertical-align: middle;\n",
       "    }\n",
       "\n",
       "    .dataframe tbody tr th {\n",
       "        vertical-align: top;\n",
       "    }\n",
       "\n",
       "    .dataframe thead th {\n",
       "        text-align: right;\n",
       "    }\n",
       "</style>\n",
       "<table border=\"1\" class=\"dataframe\">\n",
       "  <thead>\n",
       "    <tr style=\"text-align: right;\">\n",
       "      <th></th>\n",
       "      <th>0</th>\n",
       "    </tr>\n",
       "  </thead>\n",
       "  <tbody>\n",
       "    <tr>\n",
       "      <th>0</th>\n",
       "      <td>0</td>\n",
       "    </tr>\n",
       "    <tr>\n",
       "      <th>1</th>\n",
       "      <td>5</td>\n",
       "    </tr>\n",
       "    <tr>\n",
       "      <th>2</th>\n",
       "      <td>4</td>\n",
       "    </tr>\n",
       "    <tr>\n",
       "      <th>3</th>\n",
       "      <td>0</td>\n",
       "    </tr>\n",
       "    <tr>\n",
       "      <th>4</th>\n",
       "      <td>4</td>\n",
       "    </tr>\n",
       "    <tr>\n",
       "      <th>5</th>\n",
       "      <td>4</td>\n",
       "    </tr>\n",
       "    <tr>\n",
       "      <th>6</th>\n",
       "      <td>3</td>\n",
       "    </tr>\n",
       "    <tr>\n",
       "      <th>7</th>\n",
       "      <td>0</td>\n",
       "    </tr>\n",
       "    <tr>\n",
       "      <th>8</th>\n",
       "      <td>0</td>\n",
       "    </tr>\n",
       "    <tr>\n",
       "      <th>9</th>\n",
       "      <td>5</td>\n",
       "    </tr>\n",
       "    <tr>\n",
       "      <th>10</th>\n",
       "      <td>2</td>\n",
       "    </tr>\n",
       "    <tr>\n",
       "      <th>11</th>\n",
       "      <td>1</td>\n",
       "    </tr>\n",
       "    <tr>\n",
       "      <th>12</th>\n",
       "      <td>1</td>\n",
       "    </tr>\n",
       "    <tr>\n",
       "      <th>13</th>\n",
       "      <td>9</td>\n",
       "    </tr>\n",
       "  </tbody>\n",
       "</table>\n",
       "</div>"
      ],
      "text/plain": [
       "    0\n",
       "0   0\n",
       "1   5\n",
       "2   4\n",
       "3   0\n",
       "4   4\n",
       "5   4\n",
       "6   3\n",
       "7   0\n",
       "8   0\n",
       "9   5\n",
       "10  2\n",
       "11  1\n",
       "12  1\n",
       "13  9"
      ]
     },
     "execution_count": 188,
     "metadata": {},
     "output_type": "execute_result"
    }
   ],
   "source": [
    "z =pd.DataFrame(arr)\n",
    "z"
   ]
  },
  {
   "cell_type": "code",
   "execution_count": 189,
   "metadata": {},
   "outputs": [
    {
     "data": {
      "text/plain": [
       "0    4\n",
       "4    3\n",
       "5    2\n",
       "1    2\n",
       "9    1\n",
       "3    1\n",
       "2    1\n",
       "Name: 0, dtype: int64"
      ]
     },
     "execution_count": 189,
     "metadata": {},
     "output_type": "execute_result"
    }
   ],
   "source": [
    "z[0].value_counts()"
   ]
  },
  {
   "cell_type": "code",
   "execution_count": 190,
   "metadata": {},
   "outputs": [
    {
     "data": {
      "text/plain": [
       "array([4, 3, 2, 2, 1, 1, 1], dtype=int64)"
      ]
     },
     "execution_count": 190,
     "metadata": {},
     "output_type": "execute_result"
    }
   ],
   "source": [
    "np.asarray(z[0].value_counts())"
   ]
  },
  {
   "cell_type": "markdown",
   "metadata": {},
   "source": [
    "6.Create a numpyarray [[0, 1, 2],[ 3, 4, 5],[ 6, 7, 8],[ 9,10, 11]]) and filter the elements greater than 5."
   ]
  },
  {
   "cell_type": "code",
   "execution_count": 167,
   "metadata": {},
   "outputs": [],
   "source": [
    "a=np.array([[0,1,2],[3,4,5],[6,7,8],[9,10,11]])"
   ]
  },
  {
   "cell_type": "code",
   "execution_count": 170,
   "metadata": {},
   "outputs": [
    {
     "data": {
      "text/plain": [
       "array([[False, False, False],\n",
       "       [False, False, False],\n",
       "       [ True,  True,  True],\n",
       "       [ True,  True,  True]])"
      ]
     },
     "execution_count": 170,
     "metadata": {},
     "output_type": "execute_result"
    }
   ],
   "source": [
    "a>5"
   ]
  },
  {
   "cell_type": "code",
   "execution_count": 171,
   "metadata": {},
   "outputs": [
    {
     "data": {
      "text/plain": [
       "array([ 6,  7,  8,  9, 10, 11])"
      ]
     },
     "execution_count": 171,
     "metadata": {},
     "output_type": "execute_result"
    }
   ],
   "source": [
    "a[a>5]"
   ]
  },
  {
   "cell_type": "markdown",
   "metadata": {},
   "source": [
    "7.Create a numpy array having NaN (Not a Number) and print it.array([ nan,   1.,   2.,  nan,   3.,   4.,   5.])Print the same array omitting all elements which are nan"
   ]
  },
  {
   "cell_type": "code",
   "execution_count": 187,
   "metadata": {},
   "outputs": [],
   "source": [
    "k=np.array([ np.nan,   1.,   2.,  np.nan,   3.,   4.,   5.])"
   ]
  },
  {
   "cell_type": "code",
   "execution_count": 208,
   "metadata": {},
   "outputs": [
    {
     "data": {
      "text/plain": [
       "array([1., 2., 3., 4., 5.])"
      ]
     },
     "execution_count": 208,
     "metadata": {},
     "output_type": "execute_result"
    }
   ],
   "source": [
    "k[~np.isnan(k)]"
   ]
  },
  {
   "cell_type": "markdown",
   "metadata": {},
   "source": [
    "8.Create  a  10x10  array  with  random  values  and  find  the  minimum  and  maximum values."
   ]
  },
  {
   "cell_type": "code",
   "execution_count": 220,
   "metadata": {},
   "outputs": [],
   "source": [
    "r=[np.random.rand() for i in range(100)]"
   ]
  },
  {
   "cell_type": "code",
   "execution_count": 222,
   "metadata": {},
   "outputs": [],
   "source": [
    "r=np.array(r)"
   ]
  },
  {
   "cell_type": "code",
   "execution_count": 224,
   "metadata": {},
   "outputs": [
    {
     "data": {
      "text/plain": [
       "array([[0.52375865, 0.86012818, 0.02005186, 0.65995013, 0.08637286,\n",
       "        0.44657924, 0.79561348, 0.01614047, 0.86186169, 0.31288175],\n",
       "       [0.35842718, 0.34986336, 0.07768011, 0.80476996, 0.0328333 ,\n",
       "        0.10486121, 0.82699389, 0.06934573, 0.05826698, 0.48054941],\n",
       "       [0.57679056, 0.58379626, 0.15986985, 0.56555346, 0.46052931,\n",
       "        0.28401415, 0.61713607, 0.35374245, 0.56725079, 0.00490834],\n",
       "       [0.25802729, 0.21105836, 0.46992392, 0.07293877, 0.05845129,\n",
       "        0.71809009, 0.92888377, 0.36451139, 0.26648769, 0.00882781],\n",
       "       [0.7895665 , 0.90062133, 0.3577555 , 0.27318944, 0.74263502,\n",
       "        0.5645478 , 0.32617743, 0.2258638 , 0.8197855 , 0.69039609],\n",
       "       [0.17620766, 0.8260495 , 0.33400149, 0.98748412, 0.38544816,\n",
       "        0.88272098, 0.19669113, 0.89908467, 0.18351033, 0.70363375],\n",
       "       [0.87817699, 0.59256887, 0.11057897, 0.99359236, 0.19031446,\n",
       "        0.05281663, 0.53243612, 0.24213923, 0.02144764, 0.41394369],\n",
       "       [0.99540271, 0.04008665, 0.59434285, 0.69949945, 0.48071898,\n",
       "        0.8062015 , 0.3621717 , 0.77063014, 0.16518345, 0.47637375],\n",
       "       [0.02004152, 0.8989246 , 0.13972555, 0.89683671, 0.45887624,\n",
       "        0.73841919, 0.84524142, 0.8397701 , 0.4156724 , 0.17923625],\n",
       "       [0.68786122, 0.97353958, 0.09500214, 0.29633401, 0.73685661,\n",
       "        0.49024487, 0.62908504, 0.3098082 , 0.30443439, 0.75739253]])"
      ]
     },
     "execution_count": 224,
     "metadata": {},
     "output_type": "execute_result"
    }
   ],
   "source": [
    "r.reshape([10,10])"
   ]
  },
  {
   "cell_type": "code",
   "execution_count": 225,
   "metadata": {},
   "outputs": [
    {
     "data": {
      "text/plain": [
       "0.9954027134804931"
      ]
     },
     "execution_count": 225,
     "metadata": {},
     "output_type": "execute_result"
    }
   ],
   "source": [
    "np.max(r)"
   ]
  },
  {
   "cell_type": "code",
   "execution_count": 226,
   "metadata": {},
   "outputs": [
    {
     "data": {
      "text/plain": [
       "0.004908338694350256"
      ]
     },
     "execution_count": 226,
     "metadata": {},
     "output_type": "execute_result"
    }
   ],
   "source": [
    "np.min(r)"
   ]
  },
  {
   "cell_type": "markdown",
   "metadata": {},
   "source": [
    "9.Create a random vector of size 30 and find the mean value.\n"
   ]
  },
  {
   "cell_type": "code",
   "execution_count": 227,
   "metadata": {},
   "outputs": [],
   "source": [
    "r2=[np.random.rand() for i in range(30)]"
   ]
  },
  {
   "cell_type": "code",
   "execution_count": 231,
   "metadata": {},
   "outputs": [],
   "source": [
    "r2=np.array(r2)"
   ]
  },
  {
   "cell_type": "code",
   "execution_count": 233,
   "metadata": {},
   "outputs": [
    {
     "data": {
      "text/plain": [
       "array([0.82957212, 0.01789354, 0.66406135, 0.59510536, 0.88227374,\n",
       "       0.53253123, 0.71678202, 0.6957233 , 0.16968802, 0.29997459,\n",
       "       0.58324738, 0.81993099, 0.69120529, 0.45213273, 0.34649108,\n",
       "       0.39529566, 0.36866461, 0.66174697, 0.67965464, 0.3906704 ,\n",
       "       0.6966791 , 0.04947708, 0.83276499, 0.24035649, 0.88274535,\n",
       "       0.69527153, 0.05049975, 0.06748803, 0.93190996, 0.79864037])"
      ]
     },
     "execution_count": 233,
     "metadata": {},
     "output_type": "execute_result"
    }
   ],
   "source": [
    "r2"
   ]
  },
  {
   "cell_type": "code",
   "execution_count": 234,
   "metadata": {},
   "outputs": [
    {
     "data": {
      "text/plain": [
       "0.5346159221511305"
      ]
     },
     "execution_count": 234,
     "metadata": {},
     "output_type": "execute_result"
    }
   ],
   "source": [
    "np.mean(r2)"
   ]
  },
  {
   "cell_type": "markdown",
   "metadata": {},
   "source": [
    "10.Create numpy array having elements 0 to 10 And negate all the elements between 3 and 9"
   ]
  },
  {
   "cell_type": "code",
   "execution_count": 235,
   "metadata": {},
   "outputs": [],
   "source": [
    "r3=np.arange(0,10)"
   ]
  },
  {
   "cell_type": "code",
   "execution_count": 238,
   "metadata": {},
   "outputs": [],
   "source": [
    "r3[3:9]=r3[3:9]*-1"
   ]
  },
  {
   "cell_type": "code",
   "execution_count": 239,
   "metadata": {},
   "outputs": [
    {
     "data": {
      "text/plain": [
       "array([ 0,  1,  2, -3, -4, -5, -6, -7, -8,  9])"
      ]
     },
     "execution_count": 239,
     "metadata": {},
     "output_type": "execute_result"
    }
   ],
   "source": [
    "r3"
   ]
  },
  {
   "cell_type": "markdown",
   "metadata": {},
   "source": [
    "11.Create a random array of 3 rows and 3 columns and sort it according to 1stcolumn, 2ndcolumn or 3rdcolumn."
   ]
  },
  {
   "cell_type": "code",
   "execution_count": 243,
   "metadata": {},
   "outputs": [],
   "source": [
    "r4=np.random.rand(9).reshape([3,3])"
   ]
  },
  {
   "cell_type": "code",
   "execution_count": 249,
   "metadata": {},
   "outputs": [],
   "source": [
    "r4.sort(axis=0)"
   ]
  },
  {
   "cell_type": "code",
   "execution_count": 250,
   "metadata": {},
   "outputs": [
    {
     "data": {
      "text/plain": [
       "array([[0.03189809, 0.28581453, 0.4103223 ],\n",
       "       [0.06696014, 0.29526784, 0.73569555],\n",
       "       [0.4835884 , 0.61894194, 0.81214397]])"
      ]
     },
     "execution_count": 250,
     "metadata": {},
     "output_type": "execute_result"
    }
   ],
   "source": [
    "r4"
   ]
  },
  {
   "cell_type": "markdown",
   "metadata": {},
   "source": [
    "12.Create a four dimensions array get sum over the last two axis at once."
   ]
  },
  {
   "cell_type": "code",
   "execution_count": 279,
   "metadata": {},
   "outputs": [],
   "source": [
    "r5=np.full((1,2,3,4),np.random.rand())"
   ]
  },
  {
   "cell_type": "code",
   "execution_count": 280,
   "metadata": {},
   "outputs": [
    {
     "data": {
      "text/plain": [
       "array([[[[0.80406051, 0.80406051, 0.80406051, 0.80406051],\n",
       "         [0.80406051, 0.80406051, 0.80406051, 0.80406051],\n",
       "         [0.80406051, 0.80406051, 0.80406051, 0.80406051]],\n",
       "\n",
       "        [[0.80406051, 0.80406051, 0.80406051, 0.80406051],\n",
       "         [0.80406051, 0.80406051, 0.80406051, 0.80406051],\n",
       "         [0.80406051, 0.80406051, 0.80406051, 0.80406051]]]])"
      ]
     },
     "execution_count": 280,
     "metadata": {},
     "output_type": "execute_result"
    }
   ],
   "source": [
    "r5"
   ]
  },
  {
   "cell_type": "code",
   "execution_count": 281,
   "metadata": {},
   "outputs": [
    {
     "data": {
      "text/plain": [
       "(1, 2, 3, 4)"
      ]
     },
     "execution_count": 281,
     "metadata": {},
     "output_type": "execute_result"
    }
   ],
   "source": [
    "r5.shape"
   ]
  },
  {
   "cell_type": "code",
   "execution_count": 282,
   "metadata": {},
   "outputs": [
    {
     "data": {
      "text/plain": [
       "array([[9.64872609, 9.64872609]])"
      ]
     },
     "execution_count": 282,
     "metadata": {},
     "output_type": "execute_result"
    }
   ],
   "source": [
    "np.sum(r5,axis=(2,3))"
   ]
  },
  {
   "cell_type": "markdown",
   "metadata": {},
   "source": [
    "13.Create a random array and swap two rows of an array."
   ]
  },
  {
   "cell_type": "code",
   "execution_count": 330,
   "metadata": {},
   "outputs": [
    {
     "data": {
      "text/plain": [
       "array([[1, 2, 3],\n",
       "       [3, 4, 5]])"
      ]
     },
     "execution_count": 330,
     "metadata": {},
     "output_type": "execute_result"
    }
   ],
   "source": [
    "r6 = np.array([[1,2,3],[3,4,5]])\n",
    "r6"
   ]
  },
  {
   "cell_type": "code",
   "execution_count": 336,
   "metadata": {},
   "outputs": [],
   "source": [
    "r6[[0, 1]] = a[[1, 0]]"
   ]
  },
  {
   "cell_type": "code",
   "execution_count": 337,
   "metadata": {},
   "outputs": [
    {
     "data": {
      "text/plain": [
       "array([[3, 4, 5],\n",
       "       [0, 1, 2]])"
      ]
     },
     "execution_count": 337,
     "metadata": {},
     "output_type": "execute_result"
    }
   ],
   "source": [
    "r6"
   ]
  },
  {
   "cell_type": "code",
   "execution_count": 335,
   "metadata": {},
   "outputs": [
    {
     "data": {
      "text/plain": [
       "array([[1, 2, 3],\n",
       "       [1, 2, 3]])"
      ]
     },
     "execution_count": 335,
     "metadata": {},
     "output_type": "execute_result"
    }
   ],
   "source": [
    "r6"
   ]
  },
  {
   "cell_type": "markdown",
   "metadata": {},
   "source": [
    "14.Create a randommatrix and Compute a matrix rank."
   ]
  },
  {
   "cell_type": "code",
   "execution_count": 340,
   "metadata": {},
   "outputs": [],
   "source": [
    "r7=np.full((2,4),np.random.rand())"
   ]
  },
  {
   "cell_type": "code",
   "execution_count": 345,
   "metadata": {},
   "outputs": [
    {
     "data": {
      "text/plain": [
       "(2, 4)"
      ]
     },
     "execution_count": 345,
     "metadata": {},
     "output_type": "execute_result"
    }
   ],
   "source": [
    "r7.shape"
   ]
  },
  {
   "cell_type": "code",
   "execution_count": 346,
   "metadata": {},
   "outputs": [
    {
     "data": {
      "text/plain": [
       "4"
      ]
     },
     "execution_count": 346,
     "metadata": {},
     "output_type": "execute_result"
    }
   ],
   "source": [
    "np.max(r7.shape)"
   ]
  },
  {
   "cell_type": "markdown",
   "metadata": {},
   "source": [
    "15. Phase 1 -Data Collection\n",
    "•Read the data in pandas data frame\n",
    "•Describe the data to find more details"
   ]
  },
  {
   "cell_type": "code",
   "execution_count": 348,
   "metadata": {},
   "outputs": [
    {
     "data": {
      "text/html": [
       "<div>\n",
       "<style scoped>\n",
       "    .dataframe tbody tr th:only-of-type {\n",
       "        vertical-align: middle;\n",
       "    }\n",
       "\n",
       "    .dataframe tbody tr th {\n",
       "        vertical-align: top;\n",
       "    }\n",
       "\n",
       "    .dataframe thead th {\n",
       "        text-align: right;\n",
       "    }\n",
       "</style>\n",
       "<table border=\"1\" class=\"dataframe\">\n",
       "  <thead>\n",
       "    <tr style=\"text-align: right;\">\n",
       "      <th></th>\n",
       "      <th>name</th>\n",
       "      <th>school_rating</th>\n",
       "      <th>size</th>\n",
       "      <th>reduced_lunch</th>\n",
       "      <th>state_percentile_16</th>\n",
       "      <th>state_percentile_15</th>\n",
       "      <th>stu_teach_ratio</th>\n",
       "      <th>school_type</th>\n",
       "      <th>avg_score_15</th>\n",
       "      <th>avg_score_16</th>\n",
       "      <th>full_time_teachers</th>\n",
       "      <th>percent_black</th>\n",
       "      <th>percent_white</th>\n",
       "      <th>percent_asian</th>\n",
       "      <th>percent_hispanic</th>\n",
       "    </tr>\n",
       "  </thead>\n",
       "  <tbody>\n",
       "    <tr>\n",
       "      <th>0</th>\n",
       "      <td>Allendale Elementary School</td>\n",
       "      <td>5.0</td>\n",
       "      <td>851.0</td>\n",
       "      <td>10.0</td>\n",
       "      <td>90.2</td>\n",
       "      <td>95.8</td>\n",
       "      <td>15.7</td>\n",
       "      <td>Public</td>\n",
       "      <td>89.4</td>\n",
       "      <td>85.2</td>\n",
       "      <td>54.0</td>\n",
       "      <td>2.9</td>\n",
       "      <td>85.5</td>\n",
       "      <td>1.6</td>\n",
       "      <td>5.6</td>\n",
       "    </tr>\n",
       "    <tr>\n",
       "      <th>1</th>\n",
       "      <td>Anderson Elementary</td>\n",
       "      <td>2.0</td>\n",
       "      <td>412.0</td>\n",
       "      <td>71.0</td>\n",
       "      <td>32.8</td>\n",
       "      <td>37.3</td>\n",
       "      <td>12.8</td>\n",
       "      <td>Public</td>\n",
       "      <td>43.0</td>\n",
       "      <td>38.3</td>\n",
       "      <td>32.0</td>\n",
       "      <td>3.9</td>\n",
       "      <td>86.7</td>\n",
       "      <td>1.0</td>\n",
       "      <td>4.9</td>\n",
       "    </tr>\n",
       "    <tr>\n",
       "      <th>2</th>\n",
       "      <td>Avoca Elementary</td>\n",
       "      <td>4.0</td>\n",
       "      <td>482.0</td>\n",
       "      <td>43.0</td>\n",
       "      <td>78.4</td>\n",
       "      <td>83.6</td>\n",
       "      <td>16.6</td>\n",
       "      <td>Public</td>\n",
       "      <td>75.7</td>\n",
       "      <td>73.0</td>\n",
       "      <td>29.0</td>\n",
       "      <td>1.0</td>\n",
       "      <td>91.5</td>\n",
       "      <td>1.2</td>\n",
       "      <td>4.4</td>\n",
       "    </tr>\n",
       "    <tr>\n",
       "      <th>3</th>\n",
       "      <td>Bailey Middle</td>\n",
       "      <td>0.0</td>\n",
       "      <td>394.0</td>\n",
       "      <td>91.0</td>\n",
       "      <td>1.6</td>\n",
       "      <td>1.0</td>\n",
       "      <td>13.1</td>\n",
       "      <td>Public Magnet</td>\n",
       "      <td>2.1</td>\n",
       "      <td>4.4</td>\n",
       "      <td>30.0</td>\n",
       "      <td>80.7</td>\n",
       "      <td>11.7</td>\n",
       "      <td>2.3</td>\n",
       "      <td>4.3</td>\n",
       "    </tr>\n",
       "    <tr>\n",
       "      <th>4</th>\n",
       "      <td>Barfield Elementary</td>\n",
       "      <td>4.0</td>\n",
       "      <td>948.0</td>\n",
       "      <td>26.0</td>\n",
       "      <td>85.3</td>\n",
       "      <td>89.2</td>\n",
       "      <td>14.8</td>\n",
       "      <td>Public</td>\n",
       "      <td>81.3</td>\n",
       "      <td>79.6</td>\n",
       "      <td>64.0</td>\n",
       "      <td>11.8</td>\n",
       "      <td>71.2</td>\n",
       "      <td>7.1</td>\n",
       "      <td>6.0</td>\n",
       "    </tr>\n",
       "  </tbody>\n",
       "</table>\n",
       "</div>"
      ],
      "text/plain": [
       "                          name  school_rating   size  reduced_lunch  \\\n",
       "0  Allendale Elementary School            5.0  851.0           10.0   \n",
       "1          Anderson Elementary            2.0  412.0           71.0   \n",
       "2             Avoca Elementary            4.0  482.0           43.0   \n",
       "3                Bailey Middle            0.0  394.0           91.0   \n",
       "4          Barfield Elementary            4.0  948.0           26.0   \n",
       "\n",
       "   state_percentile_16  state_percentile_15  stu_teach_ratio    school_type  \\\n",
       "0                 90.2                 95.8             15.7         Public   \n",
       "1                 32.8                 37.3             12.8         Public   \n",
       "2                 78.4                 83.6             16.6         Public   \n",
       "3                  1.6                  1.0             13.1  Public Magnet   \n",
       "4                 85.3                 89.2             14.8         Public   \n",
       "\n",
       "   avg_score_15  avg_score_16  full_time_teachers  percent_black  \\\n",
       "0          89.4          85.2                54.0            2.9   \n",
       "1          43.0          38.3                32.0            3.9   \n",
       "2          75.7          73.0                29.0            1.0   \n",
       "3           2.1           4.4                30.0           80.7   \n",
       "4          81.3          79.6                64.0           11.8   \n",
       "\n",
       "   percent_white  percent_asian  percent_hispanic  \n",
       "0           85.5            1.6               5.6  \n",
       "1           86.7            1.0               4.9  \n",
       "2           91.5            1.2               4.4  \n",
       "3           11.7            2.3               4.3  \n",
       "4           71.2            7.1               6.0  "
      ]
     },
     "execution_count": 348,
     "metadata": {},
     "output_type": "execute_result"
    }
   ],
   "source": [
    "sdata=pd.read_csv('middle_tn_schools.csv')\n",
    "sdata.head()"
   ]
  },
  {
   "cell_type": "code",
   "execution_count": 349,
   "metadata": {},
   "outputs": [
    {
     "data": {
      "text/html": [
       "<div>\n",
       "<style scoped>\n",
       "    .dataframe tbody tr th:only-of-type {\n",
       "        vertical-align: middle;\n",
       "    }\n",
       "\n",
       "    .dataframe tbody tr th {\n",
       "        vertical-align: top;\n",
       "    }\n",
       "\n",
       "    .dataframe thead th {\n",
       "        text-align: right;\n",
       "    }\n",
       "</style>\n",
       "<table border=\"1\" class=\"dataframe\">\n",
       "  <thead>\n",
       "    <tr style=\"text-align: right;\">\n",
       "      <th></th>\n",
       "      <th>school_rating</th>\n",
       "      <th>size</th>\n",
       "      <th>reduced_lunch</th>\n",
       "      <th>state_percentile_16</th>\n",
       "      <th>state_percentile_15</th>\n",
       "      <th>stu_teach_ratio</th>\n",
       "      <th>avg_score_15</th>\n",
       "      <th>avg_score_16</th>\n",
       "      <th>full_time_teachers</th>\n",
       "      <th>percent_black</th>\n",
       "      <th>percent_white</th>\n",
       "      <th>percent_asian</th>\n",
       "      <th>percent_hispanic</th>\n",
       "    </tr>\n",
       "  </thead>\n",
       "  <tbody>\n",
       "    <tr>\n",
       "      <th>count</th>\n",
       "      <td>347.000000</td>\n",
       "      <td>347.000000</td>\n",
       "      <td>347.000000</td>\n",
       "      <td>347.000000</td>\n",
       "      <td>341.000000</td>\n",
       "      <td>347.000000</td>\n",
       "      <td>341.000000</td>\n",
       "      <td>347.000000</td>\n",
       "      <td>347.000000</td>\n",
       "      <td>347.000000</td>\n",
       "      <td>347.000000</td>\n",
       "      <td>347.000000</td>\n",
       "      <td>347.000000</td>\n",
       "    </tr>\n",
       "    <tr>\n",
       "      <th>mean</th>\n",
       "      <td>2.968300</td>\n",
       "      <td>699.472622</td>\n",
       "      <td>50.279539</td>\n",
       "      <td>58.801729</td>\n",
       "      <td>58.249267</td>\n",
       "      <td>15.461671</td>\n",
       "      <td>57.004692</td>\n",
       "      <td>57.049856</td>\n",
       "      <td>44.939481</td>\n",
       "      <td>21.197983</td>\n",
       "      <td>61.673487</td>\n",
       "      <td>2.642651</td>\n",
       "      <td>11.164553</td>\n",
       "    </tr>\n",
       "    <tr>\n",
       "      <th>std</th>\n",
       "      <td>1.690377</td>\n",
       "      <td>400.598636</td>\n",
       "      <td>25.480236</td>\n",
       "      <td>32.540747</td>\n",
       "      <td>32.702630</td>\n",
       "      <td>5.725170</td>\n",
       "      <td>26.696450</td>\n",
       "      <td>27.968974</td>\n",
       "      <td>22.053386</td>\n",
       "      <td>23.562538</td>\n",
       "      <td>27.274859</td>\n",
       "      <td>3.109629</td>\n",
       "      <td>12.030608</td>\n",
       "    </tr>\n",
       "    <tr>\n",
       "      <th>min</th>\n",
       "      <td>0.000000</td>\n",
       "      <td>53.000000</td>\n",
       "      <td>2.000000</td>\n",
       "      <td>0.200000</td>\n",
       "      <td>0.600000</td>\n",
       "      <td>4.700000</td>\n",
       "      <td>1.500000</td>\n",
       "      <td>0.100000</td>\n",
       "      <td>2.000000</td>\n",
       "      <td>0.000000</td>\n",
       "      <td>1.100000</td>\n",
       "      <td>0.000000</td>\n",
       "      <td>0.000000</td>\n",
       "    </tr>\n",
       "    <tr>\n",
       "      <th>25%</th>\n",
       "      <td>2.000000</td>\n",
       "      <td>420.500000</td>\n",
       "      <td>30.000000</td>\n",
       "      <td>30.950000</td>\n",
       "      <td>27.100000</td>\n",
       "      <td>13.700000</td>\n",
       "      <td>37.600000</td>\n",
       "      <td>37.000000</td>\n",
       "      <td>30.000000</td>\n",
       "      <td>3.600000</td>\n",
       "      <td>40.600000</td>\n",
       "      <td>0.750000</td>\n",
       "      <td>3.800000</td>\n",
       "    </tr>\n",
       "    <tr>\n",
       "      <th>50%</th>\n",
       "      <td>3.000000</td>\n",
       "      <td>595.000000</td>\n",
       "      <td>51.000000</td>\n",
       "      <td>66.400000</td>\n",
       "      <td>65.800000</td>\n",
       "      <td>15.000000</td>\n",
       "      <td>61.800000</td>\n",
       "      <td>60.700000</td>\n",
       "      <td>40.000000</td>\n",
       "      <td>13.500000</td>\n",
       "      <td>68.700000</td>\n",
       "      <td>1.600000</td>\n",
       "      <td>6.400000</td>\n",
       "    </tr>\n",
       "    <tr>\n",
       "      <th>75%</th>\n",
       "      <td>4.000000</td>\n",
       "      <td>851.000000</td>\n",
       "      <td>71.500000</td>\n",
       "      <td>88.000000</td>\n",
       "      <td>88.600000</td>\n",
       "      <td>16.700000</td>\n",
       "      <td>79.600000</td>\n",
       "      <td>80.250000</td>\n",
       "      <td>54.000000</td>\n",
       "      <td>28.350000</td>\n",
       "      <td>85.950000</td>\n",
       "      <td>3.100000</td>\n",
       "      <td>13.800000</td>\n",
       "    </tr>\n",
       "    <tr>\n",
       "      <th>max</th>\n",
       "      <td>5.000000</td>\n",
       "      <td>2314.000000</td>\n",
       "      <td>98.000000</td>\n",
       "      <td>99.800000</td>\n",
       "      <td>99.800000</td>\n",
       "      <td>111.000000</td>\n",
       "      <td>99.000000</td>\n",
       "      <td>98.900000</td>\n",
       "      <td>140.000000</td>\n",
       "      <td>97.400000</td>\n",
       "      <td>99.700000</td>\n",
       "      <td>21.100000</td>\n",
       "      <td>65.200000</td>\n",
       "    </tr>\n",
       "  </tbody>\n",
       "</table>\n",
       "</div>"
      ],
      "text/plain": [
       "       school_rating         size  reduced_lunch  state_percentile_16  \\\n",
       "count     347.000000   347.000000     347.000000           347.000000   \n",
       "mean        2.968300   699.472622      50.279539            58.801729   \n",
       "std         1.690377   400.598636      25.480236            32.540747   \n",
       "min         0.000000    53.000000       2.000000             0.200000   \n",
       "25%         2.000000   420.500000      30.000000            30.950000   \n",
       "50%         3.000000   595.000000      51.000000            66.400000   \n",
       "75%         4.000000   851.000000      71.500000            88.000000   \n",
       "max         5.000000  2314.000000      98.000000            99.800000   \n",
       "\n",
       "       state_percentile_15  stu_teach_ratio  avg_score_15  avg_score_16  \\\n",
       "count           341.000000       347.000000    341.000000    347.000000   \n",
       "mean             58.249267        15.461671     57.004692     57.049856   \n",
       "std              32.702630         5.725170     26.696450     27.968974   \n",
       "min               0.600000         4.700000      1.500000      0.100000   \n",
       "25%              27.100000        13.700000     37.600000     37.000000   \n",
       "50%              65.800000        15.000000     61.800000     60.700000   \n",
       "75%              88.600000        16.700000     79.600000     80.250000   \n",
       "max              99.800000       111.000000     99.000000     98.900000   \n",
       "\n",
       "       full_time_teachers  percent_black  percent_white  percent_asian  \\\n",
       "count          347.000000     347.000000     347.000000     347.000000   \n",
       "mean            44.939481      21.197983      61.673487       2.642651   \n",
       "std             22.053386      23.562538      27.274859       3.109629   \n",
       "min              2.000000       0.000000       1.100000       0.000000   \n",
       "25%             30.000000       3.600000      40.600000       0.750000   \n",
       "50%             40.000000      13.500000      68.700000       1.600000   \n",
       "75%             54.000000      28.350000      85.950000       3.100000   \n",
       "max            140.000000      97.400000      99.700000      21.100000   \n",
       "\n",
       "       percent_hispanic  \n",
       "count        347.000000  \n",
       "mean          11.164553  \n",
       "std           12.030608  \n",
       "min            0.000000  \n",
       "25%            3.800000  \n",
       "50%            6.400000  \n",
       "75%           13.800000  \n",
       "max           65.200000  "
      ]
     },
     "execution_count": 349,
     "metadata": {},
     "output_type": "execute_result"
    }
   ],
   "source": [
    "sdata.describe()"
   ]
  },
  {
   "cell_type": "markdown",
   "metadata": {},
   "source": [
    "Phase 2 -Group data by school ratings"
   ]
  },
  {
   "cell_type": "code",
   "execution_count": 382,
   "metadata": {},
   "outputs": [
    {
     "data": {
      "text/html": [
       "<div>\n",
       "<style scoped>\n",
       "    .dataframe tbody tr th:only-of-type {\n",
       "        vertical-align: middle;\n",
       "    }\n",
       "\n",
       "    .dataframe tbody tr th {\n",
       "        vertical-align: top;\n",
       "    }\n",
       "\n",
       "    .dataframe thead tr th {\n",
       "        text-align: left;\n",
       "    }\n",
       "\n",
       "    .dataframe thead tr:last-of-type th {\n",
       "        text-align: right;\n",
       "    }\n",
       "</style>\n",
       "<table border=\"1\" class=\"dataframe\">\n",
       "  <thead>\n",
       "    <tr>\n",
       "      <th></th>\n",
       "      <th colspan=\"8\" halign=\"left\">reduced_lunch</th>\n",
       "    </tr>\n",
       "    <tr>\n",
       "      <th></th>\n",
       "      <th>count</th>\n",
       "      <th>mean</th>\n",
       "      <th>std</th>\n",
       "      <th>min</th>\n",
       "      <th>25%</th>\n",
       "      <th>50%</th>\n",
       "      <th>75%</th>\n",
       "      <th>max</th>\n",
       "    </tr>\n",
       "    <tr>\n",
       "      <th>school_rating</th>\n",
       "      <th></th>\n",
       "      <th></th>\n",
       "      <th></th>\n",
       "      <th></th>\n",
       "      <th></th>\n",
       "      <th></th>\n",
       "      <th></th>\n",
       "      <th></th>\n",
       "    </tr>\n",
       "  </thead>\n",
       "  <tbody>\n",
       "    <tr>\n",
       "      <th>0.0</th>\n",
       "      <td>43.0</td>\n",
       "      <td>83.581395</td>\n",
       "      <td>8.813498</td>\n",
       "      <td>53.0</td>\n",
       "      <td>79.50</td>\n",
       "      <td>86.0</td>\n",
       "      <td>90.00</td>\n",
       "      <td>98.0</td>\n",
       "    </tr>\n",
       "    <tr>\n",
       "      <th>1.0</th>\n",
       "      <td>40.0</td>\n",
       "      <td>74.950000</td>\n",
       "      <td>11.644191</td>\n",
       "      <td>53.0</td>\n",
       "      <td>65.00</td>\n",
       "      <td>74.5</td>\n",
       "      <td>84.25</td>\n",
       "      <td>98.0</td>\n",
       "    </tr>\n",
       "    <tr>\n",
       "      <th>2.0</th>\n",
       "      <td>44.0</td>\n",
       "      <td>64.272727</td>\n",
       "      <td>11.956051</td>\n",
       "      <td>37.0</td>\n",
       "      <td>54.75</td>\n",
       "      <td>62.5</td>\n",
       "      <td>74.00</td>\n",
       "      <td>88.0</td>\n",
       "    </tr>\n",
       "    <tr>\n",
       "      <th>3.0</th>\n",
       "      <td>56.0</td>\n",
       "      <td>50.285714</td>\n",
       "      <td>13.550866</td>\n",
       "      <td>24.0</td>\n",
       "      <td>41.00</td>\n",
       "      <td>48.5</td>\n",
       "      <td>63.00</td>\n",
       "      <td>78.0</td>\n",
       "    </tr>\n",
       "    <tr>\n",
       "      <th>4.0</th>\n",
       "      <td>86.0</td>\n",
       "      <td>41.000000</td>\n",
       "      <td>16.681092</td>\n",
       "      <td>4.0</td>\n",
       "      <td>30.00</td>\n",
       "      <td>41.5</td>\n",
       "      <td>50.00</td>\n",
       "      <td>87.0</td>\n",
       "    </tr>\n",
       "    <tr>\n",
       "      <th>5.0</th>\n",
       "      <td>78.0</td>\n",
       "      <td>21.602564</td>\n",
       "      <td>17.651268</td>\n",
       "      <td>2.0</td>\n",
       "      <td>8.00</td>\n",
       "      <td>19.0</td>\n",
       "      <td>29.75</td>\n",
       "      <td>87.0</td>\n",
       "    </tr>\n",
       "  </tbody>\n",
       "</table>\n",
       "</div>"
      ],
      "text/plain": [
       "              reduced_lunch                                                  \\\n",
       "                      count       mean        std   min    25%   50%    75%   \n",
       "school_rating                                                                 \n",
       "0.0                    43.0  83.581395   8.813498  53.0  79.50  86.0  90.00   \n",
       "1.0                    40.0  74.950000  11.644191  53.0  65.00  74.5  84.25   \n",
       "2.0                    44.0  64.272727  11.956051  37.0  54.75  62.5  74.00   \n",
       "3.0                    56.0  50.285714  13.550866  24.0  41.00  48.5  63.00   \n",
       "4.0                    86.0  41.000000  16.681092   4.0  30.00  41.5  50.00   \n",
       "5.0                    78.0  21.602564  17.651268   2.0   8.00  19.0  29.75   \n",
       "\n",
       "                     \n",
       "                max  \n",
       "school_rating        \n",
       "0.0            98.0  \n",
       "1.0            98.0  \n",
       "2.0            88.0  \n",
       "3.0            78.0  \n",
       "4.0            87.0  \n",
       "5.0            87.0  "
      ]
     },
     "execution_count": 382,
     "metadata": {},
     "output_type": "execute_result"
    }
   ],
   "source": [
    "sd2=sdata.loc[:,('reduced_lunch','school_rating')].groupby(['school_rating']).describe()\n",
    "sd2"
   ]
  },
  {
   "cell_type": "markdown",
   "metadata": {},
   "source": [
    "Phase 3 –Correlation analysis"
   ]
  },
  {
   "cell_type": "code",
   "execution_count": 379,
   "metadata": {},
   "outputs": [
    {
     "data": {
      "text/html": [
       "<div>\n",
       "<style scoped>\n",
       "    .dataframe tbody tr th:only-of-type {\n",
       "        vertical-align: middle;\n",
       "    }\n",
       "\n",
       "    .dataframe tbody tr th {\n",
       "        vertical-align: top;\n",
       "    }\n",
       "\n",
       "    .dataframe thead th {\n",
       "        text-align: right;\n",
       "    }\n",
       "</style>\n",
       "<table border=\"1\" class=\"dataframe\">\n",
       "  <thead>\n",
       "    <tr style=\"text-align: right;\">\n",
       "      <th></th>\n",
       "      <th>school_rating</th>\n",
       "      <th>reduced_lunch</th>\n",
       "    </tr>\n",
       "  </thead>\n",
       "  <tbody>\n",
       "    <tr>\n",
       "      <th>school_rating</th>\n",
       "      <td>1.000000</td>\n",
       "      <td>-0.815757</td>\n",
       "    </tr>\n",
       "    <tr>\n",
       "      <th>reduced_lunch</th>\n",
       "      <td>-0.815757</td>\n",
       "      <td>1.000000</td>\n",
       "    </tr>\n",
       "  </tbody>\n",
       "</table>\n",
       "</div>"
      ],
      "text/plain": [
       "               school_rating  reduced_lunch\n",
       "school_rating       1.000000      -0.815757\n",
       "reduced_lunch      -0.815757       1.000000"
      ]
     },
     "execution_count": 379,
     "metadata": {},
     "output_type": "execute_result"
    }
   ],
   "source": [
    "sdata[['school_rating','reduced_lunch']].corr()"
   ]
  },
  {
   "cell_type": "markdown",
   "metadata": {},
   "source": [
    "Phase 4 –Scatter Plot"
   ]
  },
  {
   "cell_type": "code",
   "execution_count": 394,
   "metadata": {},
   "outputs": [],
   "source": [
    "import matplotlib.pyplot as plt"
   ]
  },
  {
   "cell_type": "code",
   "execution_count": 410,
   "metadata": {},
   "outputs": [
    {
     "data": {
      "image/png": "[encoded data removed]",
      "text/plain": [
       "<Figure size 432x288 with 1 Axes>"
      ]
     },
     "metadata": {
      "needs_background": "light"
     },
     "output_type": "display_data"
    }
   ],
   "source": [
    "plt.scatter(sd2['reduced_lunch']['mean'],sd2.index)\n",
    "plt.show()"
   ]
  },
  {
   "cell_type": "markdown",
   "metadata": {},
   "source": [
    "Phase 5 –Correlation Matrix"
   ]
  },
  {
   "cell_type": "code",
   "execution_count": 411,
   "metadata": {},
   "outputs": [],
   "source": [
    "import seaborn as sns"
   ]
  },
  {
   "cell_type": "code",
   "execution_count": 414,
   "metadata": {},
   "outputs": [
    {
     "data": {
      "text/plain": [
       "<matplotlib.axes._subplots.AxesSubplot at 0x283d8710b70>"
      ]
     },
     "execution_count": 414,
     "metadata": {},
     "output_type": "execute_result"
    },
    {
     "data": {
      "image/png": "[encoded data removed]",
      "text/plain": [
       "<Figure size 432x288 with 2 Axes>"
      ]
     },
     "metadata": {
      "needs_background": "light"
     },
     "output_type": "display_data"
    }
   ],
   "source": [
    "corrMatrix = sdata.corr()\n",
    "sns.heatmap(corrMatrix)"
   ]
  }
 ],
 "metadata": {
  "kernelspec": {
   "display_name": "Python 3",
   "language": "python",
   "name": "python3"
  },
  "language_info": {
   "codemirror_mode": {
    "name": "ipython",
    "version": 3
   },
   "file_extension": ".py",
   "mimetype": "text/x-python",
   "name": "python",
   "nbconvert_exporter": "python",
   "pygments_lexer": "ipython3",
   "version": "3.7.3"
  }
 },
 "nbformat": 4,
 "nbformat_minor": 2
}
