{
 "cells": [
  {
   "cell_type": "code",
   "execution_count": 1,
   "metadata": {},
   "outputs": [
    {
     "name": "stdout",
     "output_type": "stream",
     "text": [
      "Enter the Reference IDAzam12345678\n",
      "password validated\n"
     ]
    }
   ],
   "source": [
    "import re\n",
    "\n",
    "while(1):\n",
    "    txt = input('Enter the Reference ID')\n",
    "    x = re.search(\"^[A-Za-z0-9]{12}$\", txt)\n",
    "\n",
    "    if x==None:\n",
    "        print(\"please check validity of Password\")\n",
    "    else:\n",
    "        print('password validated')\n",
    "        break\n"
   ]
  },
  {
   "cell_type": "code",
   "execution_count": 2,
   "metadata": {},
   "outputs": [],
   "source": [
    "from cryptography.fernet import Fernet\n",
    "#pip install cryptography"
   ]
  },
  {
   "cell_type": "code",
   "execution_count": 3,
   "metadata": {},
   "outputs": [
    {
     "name": "stdout",
     "output_type": "stream",
     "text": [
      "b'kOQT4qOZreJ1fTeTroTUl76ScKe8cnlSHWqWWzHnYC4='\n"
     ]
    }
   ],
   "source": [
    "key=Fernet.generate_key()\n",
    "print(key)"
   ]
  },
  {
   "cell_type": "code",
   "execution_count": 4,
   "metadata": {},
   "outputs": [],
   "source": [
    "with open('key.key','wb') as file:\n",
    "    file.write(key)"
   ]
  },
  {
   "cell_type": "code",
   "execution_count": 5,
   "metadata": {},
   "outputs": [],
   "source": [
    "f=Fernet(key)\n",
    "encoded = f.encrypt(txt.encode())"
   ]
  },
  {
   "cell_type": "code",
   "execution_count": 6,
   "metadata": {},
   "outputs": [
    {
     "data": {
      "text/plain": [
       "b'gAAAAABeilWQ2oq1vQbxaMk8ZlYXIyHYF8MPA1YRJ9JKRPeZ3IG53QSkJhWS6E46xTnUMZCS7WHZ0FBdCjWojcdnOmBFq4unbw=='"
      ]
     },
     "execution_count": 6,
     "metadata": {},
     "output_type": "execute_result"
    }
   ],
   "source": [
    "encoded"
   ]
  },
  {
   "cell_type": "code",
   "execution_count": 7,
   "metadata": {},
   "outputs": [],
   "source": [
    "with open('key.key','rb') as file:\n",
    "    key=file.read()"
   ]
  },
  {
   "cell_type": "code",
   "execution_count": 8,
   "metadata": {},
   "outputs": [],
   "source": [
    "dkey=Fernet(key)\n",
    "decrypted =dkey.decrypt(encoded)"
   ]
  },
  {
   "cell_type": "code",
   "execution_count": 9,
   "metadata": {},
   "outputs": [
    {
     "data": {
      "text/plain": [
       "'Azam12345678'"
      ]
     },
     "execution_count": 9,
     "metadata": {},
     "output_type": "execute_result"
    }
   ],
   "source": [
    "decrypted.decode()"
   ]
  },
  {
   "cell_type": "code",
   "execution_count": 13,
   "metadata": {},
   "outputs": [
    {
     "name": "stdout",
     "output_type": "stream",
     "text": [
      "Set the Password423432\n",
      "password validated\n"
     ]
    }
   ],
   "source": [
    "import re\n",
    "\n",
    "txt = input('Set the Password')\n",
    "x = re.search(\".{,12}$\", txt)\n",
    "if x==None:\n",
    "    print(\"please check validity of Password\")\n",
    "else:\n",
    "    print('password validated')"
   ]
  }
 ],
 "metadata": {
  "kernelspec": {
   "display_name": "Python 3",
   "language": "python",
   "name": "python3"
  },
  "language_info": {
   "codemirror_mode": {
    "name": "ipython",
    "version": 3
   },
   "file_extension": ".py",
   "mimetype": "text/x-python",
   "name": "python",
   "nbconvert_exporter": "python",
   "pygments_lexer": "ipython3",
   "version": "3.7.3"
  }
 },
 "nbformat": 4,
 "nbformat_minor": 2
}
