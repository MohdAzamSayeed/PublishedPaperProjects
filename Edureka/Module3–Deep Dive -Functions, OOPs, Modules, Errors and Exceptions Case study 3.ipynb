{
 "cells": [
  {
   "cell_type": "code",
   "execution_count": 12,
   "metadata": {},
   "outputs": [],
   "source": [
    "class CustomerNotAllowedException(Exception):\n",
    "    pass"
   ]
  },
  {
   "cell_type": "code",
   "execution_count": 11,
   "metadata": {},
   "outputs": [],
   "source": [
    "class Customer:\n",
    "    title = \"\"\n",
    "    fname = \"\"\n",
    "    lname = \"\"\n",
    "    blacklisted =0\n",
    "\n",
    "    def __init__(self):\n",
    "        self.title = \"\"\n",
    "\n",
    "    def setblacklisted(self,blacklisted):\n",
    "        self.blacklisted = blacklisted\n",
    "\n",
    "    def Isblacklisted(self):\n",
    "        return self.blacklisted\n",
    "\n",
    "    def setTitle(self,title):\n",
    "        self.title = title\n",
    "\n",
    "    def getTitle(self):\n",
    "        return self.title\n",
    "\n",
    "    def setFname(self,fname):\n",
    "        self.fname = fname\n",
    "\n",
    "    def getFname(self):\n",
    "        return self.fname\n",
    "\n",
    "    def setLname(self,lname):\n",
    "        self.lname = lname\n",
    "\n",
    "    def getLname(self):\n",
    "        return self.lname\n",
    "    \n",
    "    def createOrder(self,pname='a',pcode='b'):\n",
    "        if(self.blacklisted !=1):\n",
    "            print('order created of %s , %s'%(pname,pcode))\n",
    "        else:\n",
    "            raise CustomerNotAllowedException('in case of blacklisted value is 1')\n",
    "        "
   ]
  },
  {
   "cell_type": "code",
   "execution_count": 13,
   "metadata": {},
   "outputs": [],
   "source": [
    "f=open('FairDealCustomerData.csv','r')\n",
    "lines=f.readlines()"
   ]
  },
  {
   "cell_type": "code",
   "execution_count": 14,
   "metadata": {},
   "outputs": [
    {
     "name": "stdout",
     "output_type": "stream",
     "text": [
      " Mr. Owen Harris \n"
     ]
    }
   ],
   "source": [
    "l=str(lines[0])\n",
    "fullname=str.split(l,',')[1]\n",
    "print(fullname)"
   ]
  },
  {
   "cell_type": "code",
   "execution_count": 21,
   "metadata": {},
   "outputs": [],
   "source": [
    "import re\n",
    "\n",
    "result=re.split(r' ',fullname)"
   ]
  },
  {
   "cell_type": "code",
   "execution_count": 22,
   "metadata": {},
   "outputs": [
    {
     "data": {
      "text/plain": [
       "['Mr.', 'Owen', 'Harris', '']"
      ]
     },
     "execution_count": 22,
     "metadata": {},
     "output_type": "execute_result"
    }
   ],
   "source": [
    "result.remove('')\n",
    "result"
   ]
  },
  {
   "cell_type": "code",
   "execution_count": 26,
   "metadata": {},
   "outputs": [],
   "source": [
    "customer1 = Customer()\n",
    "customer1.setTitle(result[0])\n",
    "customer1.setFname(result[1])\n",
    "customer1.setLname(result[2])"
   ]
  },
  {
   "cell_type": "code",
   "execution_count": 27,
   "metadata": {},
   "outputs": [
    {
     "name": "stdout",
     "output_type": "stream",
     "text": [
      "First Customer Title  Mr.\n",
      "Second Customer Title  Owen\n",
      "First Customer Title  Harris\n"
     ]
    }
   ],
   "source": [
    "print(\"First Customer Title \" , customer1.getTitle())\n",
    "print(\"Second Customer Title \" , customer1.getFname())\n",
    "print(\"First Customer Title \" , customer1.getLname())"
   ]
  },
  {
   "cell_type": "code",
   "execution_count": 28,
   "metadata": {},
   "outputs": [
    {
     "data": {
      "text/plain": [
       "1"
      ]
     },
     "execution_count": 28,
     "metadata": {},
     "output_type": "execute_result"
    }
   ],
   "source": [
    "customer1.setblacklisted(1)\n",
    "customer1.Isblacklisted()"
   ]
  },
  {
   "cell_type": "code",
   "execution_count": 29,
   "metadata": {},
   "outputs": [
    {
     "ename": "CustomerNotAllowedException",
     "evalue": "in case of blacklisted value is 1",
     "output_type": "error",
     "traceback": [
      "\u001b[1;31m---------------------------------------------------------------------------\u001b[0m",
      "\u001b[1;31mCustomerNotAllowedException\u001b[0m               Traceback (most recent call last)",
      "\u001b[1;32m<ipython-input-29-b07bf5ad254a>\u001b[0m in \u001b[0;36m<module>\u001b[1;34m\u001b[0m\n\u001b[1;32m----> 1\u001b[1;33m \u001b[0mcustomer1\u001b[0m\u001b[1;33m.\u001b[0m\u001b[0mcreateOrder\u001b[0m\u001b[1;33m(\u001b[0m\u001b[1;33m)\u001b[0m\u001b[1;33m\u001b[0m\u001b[1;33m\u001b[0m\u001b[0m\n\u001b[0m",
      "\u001b[1;32m<ipython-input-11-25c7c8cc62aa>\u001b[0m in \u001b[0;36mcreateOrder\u001b[1;34m(self, pname, pcode)\u001b[0m\n\u001b[0;32m     36\u001b[0m             \u001b[0mprint\u001b[0m\u001b[1;33m(\u001b[0m\u001b[1;34m'order created of %s , %s'\u001b[0m\u001b[1;33m%\u001b[0m\u001b[1;33m(\u001b[0m\u001b[0mpname\u001b[0m\u001b[1;33m,\u001b[0m\u001b[0mpcode\u001b[0m\u001b[1;33m)\u001b[0m\u001b[1;33m)\u001b[0m\u001b[1;33m\u001b[0m\u001b[1;33m\u001b[0m\u001b[0m\n\u001b[0;32m     37\u001b[0m         \u001b[1;32melse\u001b[0m\u001b[1;33m:\u001b[0m\u001b[1;33m\u001b[0m\u001b[1;33m\u001b[0m\u001b[0m\n\u001b[1;32m---> 38\u001b[1;33m             \u001b[1;32mraise\u001b[0m \u001b[0mCustomerNotAllowedException\u001b[0m\u001b[1;33m(\u001b[0m\u001b[1;34m'in case of blacklisted value is 1'\u001b[0m\u001b[1;33m)\u001b[0m\u001b[1;33m\u001b[0m\u001b[1;33m\u001b[0m\u001b[0m\n\u001b[0m\u001b[0;32m     39\u001b[0m \u001b[1;33m\u001b[0m\u001b[0m\n",
      "\u001b[1;31mCustomerNotAllowedException\u001b[0m: in case of blacklisted value is 1"
     ]
    }
   ],
   "source": [
    "customer1.createOrder()"
   ]
  }
 ],
 "metadata": {
  "kernelspec": {
   "display_name": "Python 3",
   "language": "python",
   "name": "python3"
  },
  "language_info": {
   "codemirror_mode": {
    "name": "ipython",
    "version": 3
   },
   "file_extension": ".py",
   "mimetype": "text/x-python",
   "name": "python",
   "nbconvert_exporter": "python",
   "pygments_lexer": "ipython3",
   "version": "3.7.3"
  }
 },
 "nbformat": 4,
 "nbformat_minor": 2
}
