{
 "cells": [
  {
   "cell_type": "markdown",
   "metadata": {},
   "source": [
    "1.A Robot moves in a Plane starting from the origin point (0,0). The robot can move toward UP, DOWN, LEFT, RIGHT. The trace of Robot movement is as given following:UP 5DOWN 3LEFT 3RIGHT 2The numbers after directions are steps.  Write a program to compute the distance current position after sequence of movements.Hint: Use math module."
   ]
  },
  {
   "cell_type": "code",
   "execution_count": 49,
   "metadata": {},
   "outputs": [],
   "source": [
    "global point\n",
    "point =[0,0]"
   ]
  },
  {
   "cell_type": "code",
   "execution_count": 46,
   "metadata": {},
   "outputs": [],
   "source": [
    "def move(St,val):\n",
    "    s=str.lower(St)\n",
    "    if s=='up':\n",
    "        point[1]=point[1]+val\n",
    "        print(point)\n",
    "    elif s=='down':\n",
    "        point[1]=point[1]-val\n",
    "        print(point)\n",
    "    elif s=='left':\n",
    "        point[0]=point[0]-val\n",
    "        print(point)\n",
    "    elif s=='right':\n",
    "        point[0]=point[0]+val\n",
    "        print(point)"
   ]
  },
  {
   "cell_type": "code",
   "execution_count": 50,
   "metadata": {},
   "outputs": [
    {
     "name": "stdout",
     "output_type": "stream",
     "text": [
      "Enter commands , press x to escape\n",
      "Enter commands: up 5\n",
      "[0, 5]\n",
      "Enter commands: down 3\n",
      "[0, 2]\n",
      "Enter commands: left 3\n",
      "[-3, 2]\n",
      "Enter commands: right 2\n",
      "[-1, 2]\n",
      "Enter commands: x\n"
     ]
    }
   ],
   "source": [
    "print('Enter commands , press x to escape')\n",
    "while 1:\n",
    "    cmd=input('Enter commands: ')\n",
    "    if (cmd =='x'):\n",
    "        break;\n",
    "    s=str.split(cmd)\n",
    "    move(s[0],int(s[1]))\n"
   ]
  },
  {
   "cell_type": "code",
   "execution_count": 51,
   "metadata": {},
   "outputs": [
    {
     "name": "stdout",
     "output_type": "stream",
     "text": [
      "2.23606797749979\n"
     ]
    }
   ],
   "source": [
    "import math\n",
    "dist = math.sqrt(point[0]**2+point[1]**2) # formula m=√x2+y2\n",
    "print(dist)"
   ]
  },
  {
   "cell_type": "markdown",
   "metadata": {},
   "source": [
    "2.Data of XYZ company is stored in sorted list. Write a program for searching specific data from that list.Hint: Use if/elif to deal with conditions."
   ]
  },
  {
   "cell_type": "code",
   "execution_count": 63,
   "metadata": {},
   "outputs": [
    {
     "name": "stdout",
     "output_type": "stream",
     "text": [
      "sorted list : ['a', 'a', 'h', 'k', 'z']\n",
      "Enter the data to searcha\n",
      "found at index: [0, 1]\n"
     ]
    }
   ],
   "source": [
    "lst1=['h','a','z','k','a']\n",
    "lst1=sorted(lst1)\n",
    "print('sorted list :',lst1)\n",
    "data=input('Enter the data to search')\n",
    "\n",
    "x=[i for i,j in enumerate(lst1) if j==data]\n",
    "print('found at index:',x)\n"
   ]
  },
  {
   "cell_type": "markdown",
   "metadata": {},
   "source": [
    "3.Weather forecasting organization wants to show is it day or night. So, write a program for such organization to findwhether is it dark outside or not.Hint: Use time module"
   ]
  },
  {
   "cell_type": "code",
   "execution_count": 80,
   "metadata": {},
   "outputs": [
    {
     "name": "stdout",
     "output_type": "stream",
     "text": [
      "Current Time = 15:13:30\n"
     ]
    }
   ],
   "source": [
    "from datetime import datetime\n",
    "\n",
    "now = datetime.now()\n",
    "\n",
    "current_time = now.strftime(\"%H:%M:%S\")\n",
    "print(\"Current Time =\", current_time)"
   ]
  },
  {
   "cell_type": "code",
   "execution_count": 92,
   "metadata": {},
   "outputs": [
    {
     "data": {
      "text/plain": [
       "True"
      ]
     },
     "execution_count": 92,
     "metadata": {},
     "output_type": "execute_result"
    }
   ],
   "source": [
    "int(current_time.split(':')[0])<18 and int(current_time.split(':')[0])>5 #assuming it sunset at 6pm and sunrise at 5am"
   ]
  },
  {
   "cell_type": "markdown",
   "metadata": {},
   "source": [
    "4.Write a program to find distancebetween two locations when their latitude and longitudes are given.Hint: Use math module."
   ]
  },
  {
   "cell_type": "code",
   "execution_count": 93,
   "metadata": {},
   "outputs": [
    {
     "name": "stdout",
     "output_type": "stream",
     "text": [
      "Input coordinates of two points:\n",
      "Starting latitude: 10\n",
      "Ending longitude: 20\n",
      "Starting latitude: 30\n",
      "Ending longitude: 40\n",
      "The distance is 3040.61km.\n"
     ]
    }
   ],
   "source": [
    "from math import radians, sin, cos, acos\n",
    "\n",
    "print(\"Input coordinates of two points:\")\n",
    "slat = radians(float(input(\"Starting latitude: \")))\n",
    "slon = radians(float(input(\"Ending longitude: \")))\n",
    "elat = radians(float(input(\"Starting latitude: \")))\n",
    "elon = radians(float(input(\"Ending longitude: \")))\n",
    "\n",
    "dist = 6371.01 * acos(sin(slat)*sin(elat) + cos(slat)*cos(elat)*cos(slon - elon))\n",
    "print(\"The distance is %.2fkm.\" % dist)"
   ]
  },
  {
   "cell_type": "markdown",
   "metadata": {},
   "source": [
    "5.Design a software for bank system. There should be options like cash withdraw, cash credit and change password. According to user input, the software should provide required output.Hint: Use if else statements and functions"
   ]
  },
  {
   "cell_type": "code",
   "execution_count": 96,
   "metadata": {},
   "outputs": [],
   "source": [
    "class Bank_Account:\n",
    "    def __init__(self,indeposit):\n",
    "        self.balance=indeposit\n",
    "    def check_balance(self):\n",
    "        print(\"remaining balance is \",self.balance)\n",
    "    def deposit(self,amount):\n",
    "        self.balance+=amount\n",
    "        print(amount,\" money is deposited\")\n",
    "    def withdraw(self,amount):\n",
    "        if(self.balance-amount>=0):\n",
    "            self.balance-=amount;\n",
    "            print(amount,\"is withdrawn\")\n",
    "        else:\n",
    "            print(\"cannot withdraw amount, insufficient balance\")"
   ]
  },
  {
   "cell_type": "code",
   "execution_count": 97,
   "metadata": {},
   "outputs": [
    {
     "name": "stdout",
     "output_type": "stream",
     "text": [
      "remaining balance is  500\n"
     ]
    }
   ],
   "source": [
    "obj1=Bank_Account(500)\n",
    "obj1.check_balance()"
   ]
  },
  {
   "cell_type": "markdown",
   "metadata": {},
   "source": [
    "6.Write a program which will find all such numbers which are divisible by 7 but are not a multiple of 5, between 2000 and 3200 (both included). The numbers obtained should be printed in a comma-separated sequence on a single line."
   ]
  },
  {
   "cell_type": "code",
   "execution_count": 99,
   "metadata": {},
   "outputs": [
    {
     "name": "stdout",
     "output_type": "stream",
     "text": [
      "[2002, 2009, 2016, 2023, 2037, 2044, 2051, 2058, 2072, 2079, 2086, 2093, 2107, 2114, 2121, 2128, 2142, 2149, 2156, 2163, 2177, 2184, 2191, 2198, 2212, 2219, 2226, 2233, 2247, 2254, 2261, 2268, 2282, 2289, 2296, 2303, 2317, 2324, 2331, 2338, 2352, 2359, 2366, 2373, 2387, 2394, 2401, 2408, 2422, 2429, 2436, 2443, 2457, 2464, 2471, 2478, 2492, 2499, 2506, 2513, 2527, 2534, 2541, 2548, 2562, 2569, 2576, 2583, 2597, 2604, 2611, 2618, 2632, 2639, 2646, 2653, 2667, 2674, 2681, 2688, 2702, 2709, 2716, 2723, 2737, 2744, 2751, 2758, 2772, 2779, 2786, 2793, 2807, 2814, 2821, 2828, 2842, 2849, 2856, 2863, 2877, 2884, 2891, 2898, 2912, 2919, 2926, 2933, 2947, 2954, 2961, 2968, 2982, 2989, 2996, 3003, 3017, 3024, 3031, 3038, 3052, 3059, 3066, 3073, 3087, 3094, 3101, 3108, 3122, 3129, 3136, 3143, 3157, 3164, 3171, 3178, 3192, 3199]\n"
     ]
    }
   ],
   "source": [
    "x= [i for i in range(2000,3201) if i%7==0 and i%5!=0]\n",
    "print(x)"
   ]
  },
  {
   "cell_type": "markdown",
   "metadata": {},
   "source": [
    "7.Write a program which can compute the factorial of a given numbers. Use recursion to find it. Hint: Suppose the following input is supplied to the program:8Then, the output should be:40320"
   ]
  },
  {
   "cell_type": "code",
   "execution_count": 109,
   "metadata": {},
   "outputs": [],
   "source": [
    "def factorial(n):\n",
    "    if(n==0):\n",
    "        return 1;\n",
    "    return n*factorial(n-1);"
   ]
  },
  {
   "cell_type": "code",
   "execution_count": 111,
   "metadata": {},
   "outputs": [
    {
     "data": {
      "text/plain": [
       "40320"
      ]
     },
     "execution_count": 111,
     "metadata": {},
     "output_type": "execute_result"
    }
   ],
   "source": [
    "factorial(8)"
   ]
  },
  {
   "cell_type": "markdown",
   "metadata": {},
   "source": [
    "8.Write a program that calculates and prints the value according to the given formula:Q = Square root of [(2 * C * D)/H]Following are the fixed values of C and H: C is 50. H is 30.D  is  the  variable  whose  values  should  be  input  to  your  program  in  a  comma-separated sequence. Example:Let  us  assume  the  following  comma  separated  input  sequence  is  given  to  the program:100,150,180The output of the program should be:18,22,24"
   ]
  },
  {
   "cell_type": "code",
   "execution_count": 133,
   "metadata": {},
   "outputs": [],
   "source": [
    "#100,150,180\n",
    "def gen_num(*args):\n",
    "    for i in args:\n",
    "        x= round(math.sqrt((2*50*i)/30))\n",
    "        print(x,end=',')\n"
   ]
  },
  {
   "cell_type": "code",
   "execution_count": 134,
   "metadata": {},
   "outputs": [
    {
     "name": "stdout",
     "output_type": "stream",
     "text": [
      "18,22,24,"
     ]
    }
   ],
   "source": [
    "gen_num(100,150,180)"
   ]
  },
  {
   "cell_type": "markdown",
   "metadata": {},
   "source": [
    "9.Write a program which takes 2 digits, X,Y as input and generates a 2-dimensional array. The element value in the i-th row and j-th column of the array should be i*j.Note: i=0,1.., X-1; j=0,1,¡-Y-1.Example:Suppose the following inputs are given to the program:3,5Then, the output of the program should be:[[0, 0, 0, 0, 0], [0, 1, 2, 3, 4], [0, 2, 4, 6, 8]] "
   ]
  },
  {
   "cell_type": "code",
   "execution_count": 142,
   "metadata": {},
   "outputs": [],
   "source": [
    "import numpy as np"
   ]
  },
  {
   "cell_type": "code",
   "execution_count": 182,
   "metadata": {},
   "outputs": [],
   "source": [
    "def genList(a,b):\n",
    "    lst =[]\n",
    "    for i in range(a):\n",
    "        lst.append([x*i for x in range(b)])\n",
    "    \n",
    "    return lst   "
   ]
  },
  {
   "cell_type": "code",
   "execution_count": 183,
   "metadata": {},
   "outputs": [
    {
     "name": "stdout",
     "output_type": "stream",
     "text": [
      "[[0 0 0 0 0]\n",
      " [0 1 2 3 4]\n",
      " [0 2 4 6 8]]\n"
     ]
    }
   ],
   "source": [
    "a=np.array(genList(3,5))\n",
    "print(a)"
   ]
  },
  {
   "cell_type": "markdown",
   "metadata": {},
   "source": [
    "10.Write a program that accepts a comma separated sequence of words as input and prints the words in a comma-separated sequence after sorting them alphabetically. Suppose the following input is supplied to the program:without,hello,bag,worldThen, the output should be:bag,hello,without,world"
   ]
  },
  {
   "cell_type": "code",
   "execution_count": 188,
   "metadata": {},
   "outputs": [
    {
     "name": "stdout",
     "output_type": "stream",
     "text": [
      "Enter inputwithout,hello,bag,world\n"
     ]
    }
   ],
   "source": [
    "words = input('Enter input')"
   ]
  },
  {
   "cell_type": "code",
   "execution_count": 199,
   "metadata": {},
   "outputs": [],
   "source": [
    "l=str.split(words,',')\n",
    "st=sorted(l)"
   ]
  },
  {
   "cell_type": "code",
   "execution_count": 209,
   "metadata": {},
   "outputs": [],
   "source": [
    "type(str(st))\n",
    "s=str(st)"
   ]
  },
  {
   "cell_type": "code",
   "execution_count": 222,
   "metadata": {},
   "outputs": [
    {
     "name": "stdout",
     "output_type": "stream",
     "text": [
      "'bag','hello','without','world'\n"
     ]
    }
   ],
   "source": [
    "k=s.replace('[','').replace(']','').replace(' ','')\n",
    "print(k)"
   ]
  },
  {
   "cell_type": "markdown",
   "metadata": {},
   "source": [
    "11.Write a program that accepts sequence of lines as input and prints the lines after making all characters in the sentence capitalized. Suppose the following inputis supplied to the program:Hello worldPractice makes perfectThen, the output should be:HELLO WORLDPRACTICE MAKES PERFECT"
   ]
  },
  {
   "cell_type": "code",
   "execution_count": 242,
   "metadata": {},
   "outputs": [],
   "source": [
    "def getSeq(option=1):\n",
    "    lst=[]\n",
    "    print('Enter exit to escape')\n",
    "    while 1:\n",
    "        w=input('Enter the word')\n",
    "        if(w == 'exit'):\n",
    "            return lst\n",
    "        if(option ==1):    \n",
    "            lst.append(str.upper(w))\n",
    "        else:\n",
    "            lst.append(w)"
   ]
  },
  {
   "cell_type": "code",
   "execution_count": 244,
   "metadata": {},
   "outputs": [
    {
     "name": "stdout",
     "output_type": "stream",
     "text": [
      "Enter exit to escape\n",
      "Enter the wordhello world\n",
      "Enter the wordpractise makes perfect\n",
      "Enter the wordexit\n",
      "HELLO WORLD\n",
      "PRACTISE MAKES PERFECT\n"
     ]
    }
   ],
   "source": [
    "l=getSeq()\n",
    "for i in l:\n",
    "    print(str(i))"
   ]
  },
  {
   "cell_type": "markdown",
   "metadata": {},
   "source": [
    "12.Write a program that accepts a sequence of whitespace separated words as input and   prints   the   words   after   removing   all   duplicate   words   and   sorting   them alphanumerically. Suppose the following input is supplied to the program:hello world and practice makes perfect and hello world againThen, the output should be:again and hello makes perfect practice world"
   ]
  },
  {
   "cell_type": "code",
   "execution_count": 253,
   "metadata": {},
   "outputs": [
    {
     "name": "stdout",
     "output_type": "stream",
     "text": [
      "Enter wordshello world and practice makes perfect and hello world again\n"
     ]
    }
   ],
   "source": [
    "words=input('Enter words')\n",
    "l2=str.split(words)"
   ]
  },
  {
   "cell_type": "code",
   "execution_count": 254,
   "metadata": {},
   "outputs": [],
   "source": [
    "l2=sorted(l2)\n"
   ]
  },
  {
   "cell_type": "code",
   "execution_count": 268,
   "metadata": {},
   "outputs": [],
   "source": [
    "l3= [l2[i] for i in range(len(l2)-1) if l2[i]!=l2[i+1]]"
   ]
  },
  {
   "cell_type": "code",
   "execution_count": 269,
   "metadata": {},
   "outputs": [
    {
     "data": {
      "text/plain": [
       "['again', 'and', 'hello', 'makes', 'perfect', 'practice']"
      ]
     },
     "execution_count": 269,
     "metadata": {},
     "output_type": "execute_result"
    }
   ],
   "source": [
    "l3"
   ]
  },
  {
   "cell_type": "code",
   "execution_count": 273,
   "metadata": {},
   "outputs": [
    {
     "name": "stdout",
     "output_type": "stream",
     "text": [
      "again and hello makes perfect practice "
     ]
    }
   ],
   "source": [
    "for i in l3:\n",
    "    print(str(i),end=' ')"
   ]
  },
  {
   "cell_type": "markdown",
   "metadata": {},
   "source": [
    "13.Write  a  program  which  accepts  a  sequence  of  comma  separated  4  digit  binary numbers  as  its  input  and  then  check  whether  they  are  divisible  by  5  or  not.  The numbers that are divisible by 5 are to be printed in a comma separated sequence.\n",
    "\n",
    "Example:0100,0011,1010,1001Then the output should be:1010\n"
   ]
  },
  {
   "cell_type": "code",
   "execution_count": 282,
   "metadata": {},
   "outputs": [
    {
     "name": "stdout",
     "output_type": "stream",
     "text": [
      "0100,0011,1010,1001\n"
     ]
    }
   ],
   "source": [
    "w=input()"
   ]
  },
  {
   "cell_type": "code",
   "execution_count": 287,
   "metadata": {},
   "outputs": [
    {
     "name": "stdout",
     "output_type": "stream",
     "text": [
      "1010"
     ]
    }
   ],
   "source": [
    "k=str.split(w,',')\n",
    "for i in k:\n",
    "    if int(i,2)%5==0:\n",
    "        print(i,end='')"
   ]
  },
  {
   "cell_type": "markdown",
   "metadata": {},
   "source": [
    "14.Write  a  program  that  accepts  a  sentence  and  calculate  the  number  of  upper  case letters and lower case letters.Suppose the following input is supplied to the program:Hello world!Then, the output should be:UPPER CASE 1LOWER CASE 9"
   ]
  },
  {
   "cell_type": "code",
   "execution_count": 293,
   "metadata": {},
   "outputs": [
    {
     "name": "stdout",
     "output_type": "stream",
     "text": [
      "UPPER CASE 1LOWER CASE 9\n"
     ]
    }
   ],
   "source": [
    "s='Hello world!'\n",
    "u=0\n",
    "l=0\n",
    "for x in s:\n",
    "    if(x.isupper()):\n",
    "        u+=1\n",
    "    elif(x.islower()):\n",
    "        l+=1\n",
    "\n",
    "print('UPPER CASE %dLOWER CASE %d'%(u,l))        "
   ]
  },
  {
   "cell_type": "markdown",
   "metadata": {},
   "source": [
    "15.Give example of fsum and sum function of math library."
   ]
  },
  {
   "cell_type": "code",
   "execution_count": 295,
   "metadata": {},
   "outputs": [],
   "source": [
    "import math"
   ]
  },
  {
   "cell_type": "code",
   "execution_count": 305,
   "metadata": {},
   "outputs": [
    {
     "name": "stdout",
     "output_type": "stream",
     "text": [
      "30.23\n"
     ]
    }
   ],
   "source": [
    "print(sum([10.23,20]))"
   ]
  },
  {
   "cell_type": "code",
   "execution_count": 303,
   "metadata": {},
   "outputs": [
    {
     "data": {
      "text/plain": [
       "30.45777777777778"
      ]
     },
     "execution_count": 303,
     "metadata": {},
     "output_type": "execute_result"
    }
   ],
   "source": [
    "math.fsum([10.23,20.22777777777777777])"
   ]
  }
 ],
 "metadata": {
  "kernelspec": {
   "display_name": "Python 3",
   "language": "python",
   "name": "python3"
  },
  "language_info": {
   "codemirror_mode": {
    "name": "ipython",
    "version": 3
   },
   "file_extension": ".py",
   "mimetype": "text/x-python",
   "name": "python",
   "nbconvert_exporter": "python",
   "pygments_lexer": "ipython3",
   "version": "3.7.3"
  },
  "widgets": {
   "application/vnd.jupyter.widget-state+json": {
    "state": {},
    "version_major": 2,
    "version_minor": 0
   }
  }
 },
 "nbformat": 4,
 "nbformat_minor": 2
}
