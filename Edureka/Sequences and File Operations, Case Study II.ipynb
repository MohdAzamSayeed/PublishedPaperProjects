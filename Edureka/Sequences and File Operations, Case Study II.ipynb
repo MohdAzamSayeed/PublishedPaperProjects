{
 "cells": [
  {
   "cell_type": "markdown",
   "metadata": {},
   "source": [
    "1. What is the output of the following code?\n",
    "nums = set([1,1,2,3,3,3,4,4])\n",
    "print(len(nums))\n",
    "Hint: Set consists unique element.\n",
    "\n",
    "Answer: 4"
   ]
  },
  {
   "cell_type": "code",
   "execution_count": null,
   "metadata": {},
   "outputs": [],
   "source": []
  },
  {
   "cell_type": "markdown",
   "metadata": {},
   "source": [
    "2. What will be the output?\n",
    "d = {\"john\":40, \"peter\":45}\n",
    "print(list(d.keys()))\n",
    "Hint: d.keys() is the function which will show keys.\n",
    "\n",
    "Answer: ['john', 'peter']"
   ]
  },
  {
   "cell_type": "code",
   "execution_count": null,
   "metadata": {},
   "outputs": [],
   "source": []
  },
  {
   "cell_type": "markdown",
   "metadata": {},
   "source": [
    "3. A website requires a user to input username and password to register. Write a program\n",
    "to check the validity of password given by user. Following are the criteria for checking\n",
    "password:\n",
    "    1. At least 1 letter between [a-z]\n",
    "    2. At least 1 number between [0-9]\n",
    "    3. At least 1 letter between [A-Z]\n",
    "    4. At least 1 character from [$#@]\n",
    "    5. Minimum length of transaction password: 6\n",
    "    6. Maximum length of transaction password: 12\n",
    "    \n",
    "Hint: In case of input data being supplied to the question, it should be assumed to be a\n",
    "console input.\n"
   ]
  },
  {
   "cell_type": "code",
   "execution_count": 14,
   "metadata": {},
   "outputs": [
    {
     "name": "stdout",
     "output_type": "stream",
     "text": [
      "Set the Password@123aaAcgh\n",
      "password validated\n"
     ]
    }
   ],
   "source": [
    "import re\n",
    "\n",
    "txt = input('Set the Password')\n",
    "x = re.search(\"^(?=.*?[A-Z])(?=.*?[a-z])(?=.*?[0-9])(?=.*?[#?!@$%^&*-]).{6,12}$\", txt)\n",
    "if x==None:\n",
    "    print(\"please check validity of Password\")\n",
    "else:\n",
    "    print('password validated')"
   ]
  },
  {
   "cell_type": "markdown",
   "metadata": {},
   "source": [
    "4. Write a for loop that prints all elements of a list and their position in the list.\n",
    " a = [4,7,3,2,5,9]\n",
    "Hint: Use Loop to iterate through list elements."
   ]
  },
  {
   "cell_type": "code",
   "execution_count": 19,
   "metadata": {},
   "outputs": [
    {
     "name": "stdout",
     "output_type": "stream",
     "text": [
      "(0, 4)\n",
      "(1, 7)\n",
      "(2, 3)\n",
      "(3, 2)\n",
      "(4, 5)\n",
      "(5, 9)\n"
     ]
    }
   ],
   "source": [
    "a = [4,7,3,2,5,9]\n",
    "for i in enumerate(a):\n",
    "    print(i)"
   ]
  },
  {
   "cell_type": "markdown",
   "metadata": {},
   "source": [
    "5. Please write a program which accepts a string from console and print the\n",
    "characters that have even indexes.\n",
    " Example: If the following string is given as input to the program:\n",
    " H1e2l3l4o5w6o7r8l9d\n",
    " Then, the output of the program should be:\n",
    " Helloworld"
   ]
  },
  {
   "cell_type": "code",
   "execution_count": 31,
   "metadata": {},
   "outputs": [
    {
     "name": "stdout",
     "output_type": "stream",
     "text": [
      "Enter String :H1e2l3l4o5w6o7r8l9d\n",
      "Helloworld"
     ]
    }
   ],
   "source": [
    "str =input(\"Enter String :\")\n",
    "#str = 'H1e2l3l4o5w6o7r8l9d'\n",
    "for i in range(0,len(str),2):\n",
    "    print(str[i],end=\"\")"
   ]
  },
  {
   "cell_type": "markdown",
   "metadata": {},
   "source": [
    "6. Please write a program which accepts a string from console and print it in reverse\n",
    "order.\n",
    " Example: If the following string is given as input to the program:\n",
    " rise to vote sir\n",
    " Then, the output of the program should be:\n",
    " ris etov ot esir\n"
   ]
  },
  {
   "cell_type": "code",
   "execution_count": 33,
   "metadata": {},
   "outputs": [
    {
     "name": "stdout",
     "output_type": "stream",
     "text": [
      "Enter String :rise to vote sir\n",
      "ris etov ot esir\n"
     ]
    }
   ],
   "source": [
    "str =input(\"Enter String :\")\n",
    "print(str[::-1])"
   ]
  },
  {
   "cell_type": "markdown",
   "metadata": {},
   "source": [
    "7. Please write a program which count and print the numbers of each character in a\n",
    "string input by console.\n",
    " Example: If the following string is given as input to the program:\n",
    " abcdefgabc\n",
    " Then, the output of the program should be:\n",
    "a,2\n",
    "c,2\n",
    "b,2\n",
    "e,1\n",
    "d,1\n",
    "g,1\n",
    "f,1"
   ]
  },
  {
   "cell_type": "code",
   "execution_count": 49,
   "metadata": {},
   "outputs": [
    {
     "name": "stdout",
     "output_type": "stream",
     "text": [
      "Enter String :abcdefgabc\n",
      "d 1\n",
      "g 1\n",
      "f 1\n",
      "e 1\n",
      "b 2\n",
      "c 2\n",
      "a 2\n"
     ]
    }
   ],
   "source": [
    "str=input(\"Enter String :\")\n",
    "s= set(str)\n",
    "for i in s:\n",
    "    print(i,str.count(i))\n"
   ]
  },
  {
   "cell_type": "markdown",
   "metadata": {},
   "source": [
    "8.With two given lists [1,3,6,78,35,55] and [12,24,35,24,88,120,155], write a\n",
    "program to make a list whose elements are intersection of the above given lists."
   ]
  },
  {
   "cell_type": "code",
   "execution_count": 53,
   "metadata": {},
   "outputs": [
    {
     "data": {
      "text/plain": [
       "[35]"
      ]
     },
     "execution_count": 53,
     "metadata": {},
     "output_type": "execute_result"
    }
   ],
   "source": [
    "lst1 = [1,3,6,78,35,55]\n",
    "lst2 = [12,24,35,24,88,120,155]\n",
    "\n",
    "intersec = list(set(lst1).intersection(set(lst2)))\n",
    "intersec"
   ]
  },
  {
   "cell_type": "markdown",
   "metadata": {},
   "source": [
    "9. By using list comprehension, please write a program to print the list after removing\n",
    "the value 24 in [12,24,35,24,88,120,155]."
   ]
  },
  {
   "cell_type": "code",
   "execution_count": 58,
   "metadata": {},
   "outputs": [
    {
     "name": "stdout",
     "output_type": "stream",
     "text": [
      "[12, 35, 88, 120, 155]\n"
     ]
    }
   ],
   "source": [
    "list =[12,24,35,24,88,120,155]\n",
    "l =[x for x in list if x!=24]\n",
    "print(l)"
   ]
  },
  {
   "cell_type": "markdown",
   "metadata": {},
   "source": [
    "10.By using list comprehension, please write a program to print the list after removing\n",
    "the 0th,4th,5th numbers in [12,24,35,70,88,120,155]."
   ]
  },
  {
   "cell_type": "code",
   "execution_count": 76,
   "metadata": {},
   "outputs": [
    {
     "name": "stdout",
     "output_type": "stream",
     "text": [
      "[24, 35, 24, 155]\n"
     ]
    }
   ],
   "source": [
    "list =[12,24,35,24,88,120,155]\n",
    "l =[list[i] for i in range(len(list)) if i not in (0,4,5)]\n",
    "print(l)"
   ]
  },
  {
   "cell_type": "markdown",
   "metadata": {},
   "source": [
    "11.By using list comprehension, please write a program to print the list after removing\n",
    "delete numbers which are divisible by 5 and 7 in [12,24,35,70,88,120,155]."
   ]
  },
  {
   "cell_type": "code",
   "execution_count": 74,
   "metadata": {},
   "outputs": [
    {
     "name": "stdout",
     "output_type": "stream",
     "text": [
      "[12, 24, 88, 120, 155]\n"
     ]
    }
   ],
   "source": [
    "list =[12,24,35,70,88,120,155]\n",
    "l =[i for i in list if not(i%5==0 and i%7==0)]\n",
    "print(l)"
   ]
  },
  {
   "cell_type": "markdown",
   "metadata": {},
   "source": [
    "12.Write a program to compute 1/2+2/3+3/4+...+n/n+1 with a given n input by\n",
    "console (n>0).\n",
    "Example:\n",
    "If the following n is given as input to the program:\n",
    "5\n",
    "Then, the output of the program should be:\n",
    "3.55"
   ]
  },
  {
   "cell_type": "code",
   "execution_count": 80,
   "metadata": {},
   "outputs": [
    {
     "name": "stdout",
     "output_type": "stream",
     "text": [
      "Enter Number n :5\n"
     ]
    },
    {
     "data": {
      "text/plain": [
       "3.5500000000000003"
      ]
     },
     "execution_count": 80,
     "metadata": {},
     "output_type": "execute_result"
    }
   ],
   "source": [
    "n=int(input(\"Enter Number n :\"))\n",
    "list =[i/(i+1) for i in range(1,n+1)]\n",
    "sum(list)"
   ]
  },
  {
   "cell_type": "code",
   "execution_count": 1,
   "metadata": {},
   "outputs": [
    {
     "name": "stdout",
     "output_type": "stream",
     "text": [
      "Enter the Reference IDAzam12345678\n",
      "password validated\n"
     ]
    }
   ],
   "source": [
    "import re\n",
    "\n",
    "while(1):\n",
    "    txt = input('Enter the Reference ID')\n",
    "    x = re.search(\"^[A-Za-z0-9]{12}$\", txt)\n",
    "\n",
    "    if x==None:\n",
    "        print(\"please check validity of Password\")\n",
    "    else:\n",
    "        print('password validated')\n",
    "        break\n"
   ]
  },
  {
   "cell_type": "code",
   "execution_count": 2,
   "metadata": {},
   "outputs": [],
   "source": [
    "from cryptography.fernet import Fernet"
   ]
  },
  {
   "cell_type": "code",
   "execution_count": 3,
   "metadata": {},
   "outputs": [
    {
     "name": "stdout",
     "output_type": "stream",
     "text": [
      "b'kOQT4qOZreJ1fTeTroTUl76ScKe8cnlSHWqWWzHnYC4='\n"
     ]
    }
   ],
   "source": [
    "key=Fernet.generate_key()\n",
    "print(key)"
   ]
  },
  {
   "cell_type": "code",
   "execution_count": 4,
   "metadata": {},
   "outputs": [],
   "source": [
    "with open('key.key','wb') as file:\n",
    "    file.write(key)"
   ]
  },
  {
   "cell_type": "code",
   "execution_count": 5,
   "metadata": {},
   "outputs": [],
   "source": [
    "f=Fernet(key)\n",
    "encoded = f.encrypt(txt.encode())"
   ]
  },
  {
   "cell_type": "code",
   "execution_count": 6,
   "metadata": {},
   "outputs": [
    {
     "data": {
      "text/plain": [
       "b'gAAAAABeilWQ2oq1vQbxaMk8ZlYXIyHYF8MPA1YRJ9JKRPeZ3IG53QSkJhWS6E46xTnUMZCS7WHZ0FBdCjWojcdnOmBFq4unbw=='"
      ]
     },
     "execution_count": 6,
     "metadata": {},
     "output_type": "execute_result"
    }
   ],
   "source": [
    "encoded"
   ]
  },
  {
   "cell_type": "code",
   "execution_count": 7,
   "metadata": {},
   "outputs": [],
   "source": [
    "with open('key.key','rb') as file:\n",
    "    key=file.read()"
   ]
  },
  {
   "cell_type": "code",
   "execution_count": 8,
   "metadata": {},
   "outputs": [],
   "source": [
    "dkey=Fernet(key)\n",
    "decrypted =dkey.decrypt(encoded)"
   ]
  },
  {
   "cell_type": "code",
   "execution_count": 9,
   "metadata": {},
   "outputs": [
    {
     "data": {
      "text/plain": [
       "'Azam12345678'"
      ]
     },
     "execution_count": 9,
     "metadata": {},
     "output_type": "execute_result"
    }
   ],
   "source": [
    "decrypted.decode()"
   ]
  },
  {
   "cell_type": "code",
   "execution_count": 13,
   "metadata": {},
   "outputs": [
    {
     "name": "stdout",
     "output_type": "stream",
     "text": [
      "Set the Password423432\n",
      "password validated\n"
     ]
    }
   ],
   "source": [
    "import re\n",
    "\n",
    "txt = input('Set the Password')\n",
    "x = re.search(\".{,12}$\", txt)\n",
    "if x==None:\n",
    "    print(\"please check validity of Password\")\n",
    "else:\n",
    "    print('password validated')"
   ]
  },
  {
   "cell_type": "code",
   "execution_count": 3,
   "metadata": {},
   "outputs": [
    {
     "data": {
      "text/plain": [
       "[2, 4, 6, 8, 10]"
      ]
     },
     "execution_count": 3,
     "metadata": {},
     "output_type": "execute_result"
    }
   ],
   "source": [
    "list1 =[1,2,3,4,5]\n",
    "sq=list(map(lambda x:x*2,list1))\n",
    "sq"
   ]
  },
  {
   "cell_type": "code",
   "execution_count": 4,
   "metadata": {},
   "outputs": [
    {
     "data": {
      "text/plain": [
       "[1, 2, 3, 4]"
      ]
     },
     "execution_count": 4,
     "metadata": {},
     "output_type": "execute_result"
    }
   ],
   "source": [
    "list1 =[1,2,3,4,5]\n",
    "sq=list(filter(lambda x:x<5,list1))\n",
    "sq"
   ]
  },
  {
   "cell_type": "code",
   "execution_count": 6,
   "metadata": {},
   "outputs": [
    {
     "data": {
      "text/plain": [
       "15"
      ]
     },
     "execution_count": 6,
     "metadata": {},
     "output_type": "execute_result"
    }
   ],
   "source": [
    "list1=[1,2,3,4,5]\n",
    "from functools import reduce\n",
    "prd=reduce((lambda x,y:x+y),list1)\n",
    "prd"
   ]
  },
  {
   "cell_type": "code",
   "execution_count": 11,
   "metadata": {},
   "outputs": [],
   "source": [
    "class A:\n",
    "    a=10\n",
    "    def __init__(self):\n",
    "        print(\"Class A constructor\")\n",
    "        \n",
    "class B(A):\n",
    "    def __init__(self):\n",
    "        print(\"Class B constructor\")\n",
    "        print(self.a)\n",
    "        super(B,self).__init__()"
   ]
  },
  {
   "cell_type": "code",
   "execution_count": 12,
   "metadata": {},
   "outputs": [
    {
     "name": "stdout",
     "output_type": "stream",
     "text": [
      "Class B constructor\n",
      "10\n",
      "Class A constructor\n"
     ]
    }
   ],
   "source": [
    "b=B()"
   ]
  },
  {
   "cell_type": "code",
   "execution_count": 13,
   "metadata": {},
   "outputs": [
    {
     "data": {
      "text/plain": [
       "['__doc__',\n",
       " '__loader__',\n",
       " '__name__',\n",
       " '__package__',\n",
       " '__spec__',\n",
       " 'acos',\n",
       " 'acosh',\n",
       " 'asin',\n",
       " 'asinh',\n",
       " 'atan',\n",
       " 'atan2',\n",
       " 'atanh',\n",
       " 'ceil',\n",
       " 'copysign',\n",
       " 'cos',\n",
       " 'cosh',\n",
       " 'degrees',\n",
       " 'e',\n",
       " 'erf',\n",
       " 'erfc',\n",
       " 'exp',\n",
       " 'expm1',\n",
       " 'fabs',\n",
       " 'factorial',\n",
       " 'floor',\n",
       " 'fmod',\n",
       " 'frexp',\n",
       " 'fsum',\n",
       " 'gamma',\n",
       " 'gcd',\n",
       " 'hypot',\n",
       " 'inf',\n",
       " 'isclose',\n",
       " 'isfinite',\n",
       " 'isinf',\n",
       " 'isnan',\n",
       " 'ldexp',\n",
       " 'lgamma',\n",
       " 'log',\n",
       " 'log10',\n",
       " 'log1p',\n",
       " 'log2',\n",
       " 'modf',\n",
       " 'nan',\n",
       " 'pi',\n",
       " 'pow',\n",
       " 'radians',\n",
       " 'remainder',\n",
       " 'sin',\n",
       " 'sinh',\n",
       " 'sqrt',\n",
       " 'tan',\n",
       " 'tanh',\n",
       " 'tau',\n",
       " 'trunc']"
      ]
     },
     "execution_count": 13,
     "metadata": {},
     "output_type": "execute_result"
    }
   ],
   "source": [
    "import math\n",
    "dir(math)"
   ]
  },
  {
   "cell_type": "code",
   "execution_count": null,
   "metadata": {},
   "outputs": [],
   "source": []
  }
 ],
 "metadata": {
  "kernelspec": {
   "display_name": "Python 3",
   "language": "python",
   "name": "python3"
  },
  "language_info": {
   "codemirror_mode": {
    "name": "ipython",
    "version": 3
   },
   "file_extension": ".py",
   "mimetype": "text/x-python",
   "name": "python",
   "nbconvert_exporter": "python",
   "pygments_lexer": "ipython3",
   "version": "3.7.3"
  }
 },
 "nbformat": 4,
 "nbformat_minor": 2
}
